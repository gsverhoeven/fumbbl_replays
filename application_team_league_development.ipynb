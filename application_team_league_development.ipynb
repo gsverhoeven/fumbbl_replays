{
 "cells": [
  {
   "cell_type": "markdown",
   "metadata": {},
   "source": [
    "This blog post describes a possible use case of the `fumbbl_replays` Python package.\n",
    "\n",
    "To install the `fumbbl_replays` python package, follow the instructions on Github."
   ]
  },
  {
   "cell_type": "markdown",
   "metadata": {},
   "source": [
    "# Application: Roster development in league play\n",
    "\n",
    "This analysis focusses on team development in League play.\n",
    "I am currently in a league with Gnomes and was curious how to develop the team.\n",
    "I found a Gnome team with amazing league performance (\"We do gnomes\") by coach Elyod, one of the top ranking coaches on FUMBBL.\n",
    "The team has played in \"Black Box Trophy 11\" (BBT 11) and finished with a W/D/L of 10/2/3. \n",
    "What can we learn from how he developed his Gnomes?\n",
    "\n",
    "For this analysis, the starting point is the `team_id`. This is part of the url of the team on FUMBBL: https://fumbbl.com/p/team?id=1177218\n",
    "I wrote a function `fetch_team_development_data()` to fetch the first 15 replays for that team.\n",
    "It then extracts the team rosters from each replay, including the learned skills.\n",
    "We can then plot this data to track the team development."
   ]
  },
  {
   "cell_type": "code",
   "execution_count": null,
   "metadata": {},
   "outputs": [],
   "source": [
    "%pip install -e ."
   ]
  },
  {
   "cell_type": "markdown",
   "metadata": {},
   "source": []
  },
  {
   "cell_type": "code",
   "execution_count": null,
   "metadata": {},
   "outputs": [],
   "source": [
    "import fumbbl_replays as fb\n",
    "import pandas as pd\n",
    "from plotnine import *\n",
    "pd.set_option('display.max_colwidth', None)\n",
    "\n",
    "# bbt 11 gnomes\n",
    "team_id = 1177218\n",
    "res = fb.fetch_team_development_data(team_id)"
   ]
  },
  {
   "cell_type": "code",
   "execution_count": null,
   "metadata": {},
   "outputs": [],
   "source": [
    "rosterName = res['rosterName'].unique()[0]\n",
    "p = (\n",
    "    ggplot(res)\n",
    "    + geom_tile(aes(x=\"match_count\", y=\"plotPosition\", fill = \"first_skill_color\"), width=0.95, height=0.95)\n",
    "    + geom_text(aes(x=\"match_count\", y=\"plotPosition\", label=\"first_skill\", color = \"first_skill_text_color\"), size=6)\n",
    "    + geom_tile(data = res.query('second_skill_color != \"NA\"'), mapping = aes(x=\"match_count+0.5\", y=\"plotPosition-0.5\", fill = \"second_skill_color\"), width=0.95, height=0.95)\n",
    "    + geom_text(data = res.query('second_skill_color != \"NA\"'), mapping = aes(x=\"match_count+0.5\", y=\"plotPosition-0.5\", label=\"second_skill\", color = \"second_skill_text_color\"), size = 6)\n",
    "    + geom_text(aes(x= -1.5, y = \"plotPosition\", label = \"positionName\"))\n",
    "    + expand_limits(x=-3)    \n",
    "    + scale_fill_identity(na_value = \"NA\")\n",
    "    + scale_color_identity(na_value = \"NA\")\n",
    "    + theme(figure_size=(12, 6)) \n",
    "    + theme(legend_position='none')\n",
    "    + labs(x=\"League game number\", y=\"Players\", title= rosterName + \" team development BBT\")\n",
    ")\n",
    "p"
   ]
  },
  {
   "cell_type": "markdown",
   "metadata": {},
   "source": [
    "In the Black Box Trophy 11, teams start off with 1M gold, and play 15 matches against random opponents in the Blackbox division.\n",
    "It uses the rulebook team development rules (earning SPP, leveling up players etc).\n",
    "\n",
    "This is the roster that Elyod ended up with after 15 games.\n"
   ]
  },
  {
   "cell_type": "code",
   "execution_count": null,
   "metadata": {},
   "outputs": [],
   "source": [
    "(res\n",
    "    .query('match_count == 15')\n",
    "    .filter(['positionName', 'short_name' , 'skillArrayRoster', 'learned_skills', 'recoveringInjury'])\n",
    ")"
   ]
  },
  {
   "cell_type": "markdown",
   "metadata": {},
   "source": [
    "Let us plot how this roster was developed over the course of 15 league matches."
   ]
  },
  {
   "cell_type": "code",
   "execution_count": null,
   "metadata": {},
   "outputs": [],
   "source": [
    "fb.make_team_development_plot(res)"
   ]
  },
  {
   "cell_type": "markdown",
   "metadata": {},
   "source": [
    "We can see that by game 6, one of the foxes had skilled up to gain an extra +1 Movement.\n",
    "By game 7, an illusionist had gained Accurate. \n",
    "By game 11, a Tree had gained an extra +1 Movement.\n",
    "By game 15, a Tree had gained Pro.\n",
    "\n",
    "\n",
    "We can also see that the line gnomes do not live long. Only a single gnome made it alive through all 15 matches.\n",
    "What I found surprising is that many players have unspent SPP. So Elyod either tried to keep TV low, or he was saving up for characteristic improvements.\n"
   ]
  },
  {
   "cell_type": "markdown",
   "metadata": {},
   "source": [
    "During my last league I played Snotling. Again we have a look at a strong performing BBT team, this time from BBT 13, coached by Spelledaren.\n",
    "He is currently the top coach, with 10/2/3 WDL. What is his secret?"
   ]
  },
  {
   "cell_type": "code",
   "execution_count": null,
   "metadata": {},
   "outputs": [],
   "source": [
    "team_id = 1211200\n",
    "\n",
    "res = fb.fetch_team_development_data(team_id)\n",
    "\n",
    "(res\n",
    "    .query('match_count == 15')\n",
    "    .filter(['positionName', 'short_name' , 'skillArrayRoster', 'learned_skills', 'recoveringInjury'])\n",
    ")\n"
   ]
  },
  {
   "cell_type": "code",
   "execution_count": null,
   "metadata": {},
   "outputs": [],
   "source": [
    "fb.make_team_development_plot(res)"
   ]
  },
  {
   "cell_type": "markdown",
   "metadata": {},
   "source": [
    "Strategy: troll gets block, Pump wagon gets block. Snots get randoms (they can only learn Agility skills as primary).\n",
    "As with the gnomes, snots are fragile and not many manage to survive 15 matches."
   ]
  },
  {
   "cell_type": "markdown",
   "metadata": {},
   "source": [
    "Finally, in my current league I play Amazons.\n",
    "Lets have a look at the top 3 of BBT 13. Fellow dutchman Yuri is at the top spot."
   ]
  },
  {
   "cell_type": "code",
   "execution_count": null,
   "metadata": {},
   "outputs": [],
   "source": [
    "# bbt 13 amazons\n",
    "team_id = 1211218\n",
    "\n",
    "res = fb.fetch_team_development_data(team_id)\n",
    "\n",
    "(res\n",
    "    .query('match_count == 15')\n",
    "    .filter(['positionName', 'short_name' , 'skillArrayRoster', 'learned_skills', 'recoveringInjury'])\n",
    ")\n"
   ]
  },
  {
   "cell_type": "markdown",
   "metadata": {},
   "source": [
    "Strategy for linewomen is again obvious, always go for random general skills.\n",
    "He went with a roster that has the thrower from game 1, that in match 2 gains sure hands as chosen primary.\n",
    "\n",
    "Blitzers go for block, gaining them in game 6 and 9 respectively.\n",
    "Blockers take guard. Only one blocker gets Guard.\n"
   ]
  },
  {
   "cell_type": "code",
   "execution_count": null,
   "metadata": {},
   "outputs": [],
   "source": [
    "fb.make_team_development_plot(res)"
   ]
  },
  {
   "cell_type": "code",
   "execution_count": null,
   "metadata": {},
   "outputs": [],
   "source": [
    "team_id = 1212484\n",
    "\n",
    "res = fb.fetch_team_development_data(team_id)\n",
    "\n",
    "(res\n",
    "    .query('match_count == 15')\n",
    "    .filter(['positionName', 'short_name' , 'skillArrayRoster', 'learned_skills', 'recoveringInjury'])\n",
    ")\n"
   ]
  },
  {
   "cell_type": "markdown",
   "metadata": {},
   "source": [
    "coach fxiii takes a different approach: block on both the blitzers, as well as the blockers.  And no thrower until game 14!"
   ]
  },
  {
   "cell_type": "code",
   "execution_count": null,
   "metadata": {},
   "outputs": [],
   "source": [
    "fb.make_team_development_plot(res)"
   ]
  },
  {
   "cell_type": "code",
   "execution_count": null,
   "metadata": {},
   "outputs": [],
   "source": [
    "team_id = 1193893#1223936#1192783#1211512#1217257\n",
    "\n",
    "res = fb.fetch_team_development_data(team_id)\n",
    "\n",
    "(res\n",
    "    .query('match_count == 14')\n",
    "    .filter(['positionName', 'short_name' , 'skillArrayRoster', 'learned_skills', 'recoveringInjury'])\n",
    ")\n"
   ]
  },
  {
   "cell_type": "markdown",
   "metadata": {},
   "source": [
    "finally, we have coach Naama. He has a great first game with four TD's , that allows him to level up a blocker and a blitzer.\n",
    "Interestingly, he gives the second blitzer wrestle , to function as a ball sacker. Similarly to fxii, Naama does not play with a thrower.\n"
   ]
  },
  {
   "cell_type": "code",
   "execution_count": null,
   "metadata": {},
   "outputs": [],
   "source": [
    "fb.make_team_development_plot(res)"
   ]
  }
 ],
 "metadata": {
  "kernelspec": {
   "display_name": "fumbbl_replays_env",
   "language": "python",
   "name": "python3"
  },
  "language_info": {
   "codemirror_mode": {
    "name": "ipython",
    "version": 3
   },
   "file_extension": ".py",
   "mimetype": "text/x-python",
   "name": "python",
   "nbconvert_exporter": "python",
   "pygments_lexer": "ipython3",
   "version": "3.12.3"
  }
 },
 "nbformat": 4,
 "nbformat_minor": 2
}

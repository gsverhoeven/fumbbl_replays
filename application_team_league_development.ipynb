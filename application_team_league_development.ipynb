{
 "cells": [
  {
   "cell_type": "markdown",
   "metadata": {},
   "source": [
    "This blog post describes a possible use case of the `fumbbl_replays` Python package.\n",
    "\n",
    "To install the `fumbbl_replays` python package, follow the instructions on Github."
   ]
  },
  {
   "cell_type": "markdown",
   "metadata": {},
   "source": [
    "# Application: Roster development in league play\n",
    "\n",
    "This analysis focusses on team development in League play.\n",
    "Last season I played Gnomes in our local league, and was curious how to best develop the team.\n",
    "\n",
    "On FUMBBL, a few times a year a \"meta competition\" is organized called Black Box Trophy.\n",
    "In the Black Box Trophy, teams start off with 1M gold, and play 15 matches against random opponents in the Blackbox division.\n",
    "It uses the rulebook team development rules (earning SPP, leveling up players etc).\n",
    "\n",
    "This is a high stakes competitive **League** environment, perfect to learn what choices pro players make to optimally develop their teams.\n",
    "I decided to look at the top performing Gnome teams from the least three Black box runs.\n",
    "\n",
    "These teams and their coaches stood out:\n",
    "\n",
    "* BBT 11: \"We do gnomes\" by coach Elyod (10/2/3 WDL) (https://fumbbl.com/t/1177218)\n",
    "* BBT 11: \"You've been tricked\"  by coach Heymaia (8/3/4 WDL) (https://fumbbl.com/t/1175080)\n",
    "* BBT 12: \"Lawn Bullies\" by coach Candlejack (10/4/1 WDL) (https://fumbbl.com/t/1193897)\n",
    "* BBT 13: \"Gnom Gnom\" by coach Norn (9/5/1 WDL) (https://fumbbl.com/t/1211512)\n",
    "* BBT 13: \"Vengeance Most fowl\" by coach Heymaia (10/1/4 WDL) (https://fumbbl.com/t/1210291)\n",
    "\n",
    "What can we learn from how he developed his Gnomes?\n",
    "\n",
    "For this analysis, the starting point is the `team_id`. This is part of the url of the team on FUMBBL: https://fumbbl.com/p/team?id=1177218\n",
    "I wrote a function `fetch_team_development_data()` to fetch the rosters from the first 15 replays for each team.\n",
    "We can then plot this data to track the team development."
   ]
  },
  {
   "cell_type": "code",
   "execution_count": null,
   "metadata": {},
   "outputs": [],
   "source": [
    "import fumbbl_replays as fb\n",
    "import pandas as pd\n",
    "from plotnine import *\n",
    "pd.set_option('display.max_colwidth', None)\n",
    "\n",
    "team_ids = [1177218, 1175080, 1193897, 1211512, 1210291]\n",
    "\n",
    "for team_id in team_ids:\n",
    "    res = fb.fetch_team_development_data(team_id)\n",
    "    fb.make_team_development_plot(res)"
   ]
  },
  {
   "cell_type": "markdown",
   "metadata": {},
   "source": [
    "This is the roster that Elyod ended up with after 15 games."
   ]
  },
  {
   "cell_type": "code",
   "execution_count": null,
   "metadata": {},
   "outputs": [],
   "source": [
    "res = fb.fetch_team_development_data(1177218)\n",
    "\n",
    "(res\n",
    "    .query('match_count == 15')\n",
    "    .filter(['positionName', 'short_name' , 'skillArrayRoster', 'learned_skills', 'recoveringInjury'])\n",
    ")"
   ]
  },
  {
   "cell_type": "markdown",
   "metadata": {},
   "source": [
    "We can see that:\n",
    "*   by game 6, one of the foxes had skilled up to gain an extra +1 Movement.\n",
    "*   By game 7, an illusionist had gained Accurate.\n",
    "*   By game 11, a Tree had gained an extra +1 Movement.\n",
    "*   By game 15, a Tree had gained Pro.\n",
    "\n",
    "We can also see that the line gnomes do not live long. Only a single gnome made it alive through all 15 matches.\n",
    "\n",
    "What I found surprising is that many players have unspent SPP. So Elyod either tried to keep TV low, or he was saving up for characteristic improvements."
   ]
  }
 ],
 "metadata": {
  "kernelspec": {
   "display_name": "fumbbl_replays_env",
   "language": "python",
   "name": "python3"
  },
  "language_info": {
   "codemirror_mode": {
    "name": "ipython",
    "version": 3
   },
   "file_extension": ".py",
   "mimetype": "text/x-python",
   "name": "python",
   "nbconvert_exporter": "python",
   "pygments_lexer": "ipython3",
   "version": "3.12.3"
  }
 },
 "nbformat": 4,
 "nbformat_minor": 2
}

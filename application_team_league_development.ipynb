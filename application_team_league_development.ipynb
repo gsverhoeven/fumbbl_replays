{
 "cells": [
  {
   "cell_type": "markdown",
   "metadata": {},
   "source": [
    "[Reminder to self: this Notebook was converted to markdown, then pasted into Rmd template for blogdown]\n",
    "This blog post describes a possible use case of the `fumbbl_replays` Python package.\n",
    "\n",
    "To install the `fumbbl_replays` python package, follow the instructions on Github."
   ]
  },
  {
   "cell_type": "markdown",
   "metadata": {},
   "source": [
    "# Application: Roster development in league play\n",
    "\n",
    "This analysis focusses on team development in League play.\n",
    "Last season I played Gnomes in our local league, and was curious how to best develop the team.\n",
    "\n",
    "On FUMBBL, a few times a year a \"meta competition\" is organized called Black Box Trophy (BBT).\n",
    "In the Black Box Trophy, teams start off with 1M gold, and play 15 matches against random opponents in the Blackbox division.\n",
    "It uses the rulebook team development rules (earning SPP, leveling up players etc).\n",
    "\n",
    "This is a high stakes competitive **League** environment, perfect to learn what choices pro players make to optimally develop their teams.\n",
    "I decided to look at the top performing Gnome teams from the last three BBT seasons.\n",
    "\n",
    "These teams and their coaches stood out:\n",
    "\n",
    "* BBT 11: \"We do gnomes\" by coach Elyod (10/2/3 WDL) (https://fumbbl.com/t/1177218)\n",
    "* BBT 11: \"You've been tricked\"  by coach Heymaiya (8/3/4 WDL) (https://fumbbl.com/t/1175080)\n",
    "* BBT 12: \"Lawn Bullies\" by coach Candlejack (10/4/1 WDL) (https://fumbbl.com/t/1193897)\n",
    "* BBT 13: \"Gnom Gnom\" by coach Norn (9/5/1 WDL) (https://fumbbl.com/t/1211512)\n",
    "* BBT 13: \"Vengeance Most fowl\" by coach Heymaiya (10/1/4 WDL) (https://fumbbl.com/t/1210291)\n",
    "\n",
    "For this analysis, the starting point is the `team_id`. \n",
    "This is part of the url of the team on FUMBBL: https://fumbbl.com/p/team?id=1177218\n",
    "\n",
    "I wrote a function `fetch_team_development_data()` to fetch the rosters from the first 15 replays for each team.\n",
    "We can then plot this data to track the team development."
   ]
  },
  {
   "cell_type": "code",
   "execution_count": null,
   "metadata": {},
   "outputs": [],
   "source": [
    "import fumbbl_replays as fb\n",
    "\n",
    "team_ids = [1177218, 1175080, 1193897, 1211512, 1210291]\n",
    "\n",
    "for team_id in team_ids:\n",
    "    res = fb.fetch_team_development_data(team_id)\n",
    "    fb.make_team_development_plot(res)"
   ]
  },
  {
   "cell_type": "markdown",
   "metadata": {},
   "source": [
    "# What can we learn from how these Gnome teams developed?\n",
    "\n",
    "What starting roster is used?\n",
    "How are the SPP spent? What player builds do we see?\n",
    "\n",
    "## Starting roster\n",
    "\n",
    "As a starting roster, all five rosters start with 6 linemen and all positionals, for 14 players.\n",
    "Three rerolls plus apo.\n",
    "\n",
    "## Foxes\n",
    "\n",
    "Foxes are the stars of the team, collecting SPP by scoring TDs. \n",
    "+MA is by far the most popular. Sure feet is also an option, to save on rerolls for the GFIs.\n",
    "\n",
    "## Treemen\n",
    "\n",
    "Treemen skill up quickly by all those 3-die block casualties and the occassional superb TTM. \n",
    "Guard is favorite. Less common options are +MA, Pro and Defensive.\n",
    "Candlejack managed to get a second skill on both after 12 and 14 games, +MA and Block.\n",
    "\n",
    "Defensive was a surprise for me. It turns of Guard during the opponents turn.\n",
    "It makes it more difficult for opponents to bring in enough assists to knock down the tree.\n",
    "This is strong when the trees form part of the cage formation, in combination with Beastmasters closeby that come with Guard.\n",
    "\n",
    "## Linemen\n",
    "\n",
    "For linemen, we see mostly saving up (MVP, TTM TDs?) for dodge. There is one lineman with a second skill, diving tackle, to serve as a marking player.\n",
    "Overall, it appears difficult to skill up linemen, since they do not live long enough.\n",
    "Of the 6 linemen in the starting roster, without dodge only 1 or 2 survive after 15 games.\n",
    "\n",
    "## Illusionists\n",
    "Same as the line gnomes, lifespan issues. After they gain dodge protection, leader for an extra reroll.\n",
    "Coach Elyod randomed pass skills, possibly in search of a cheap leader skill.\n",
    "\n",
    "## Beastmasters\n",
    "Beastmasters have higher AV than the rest of the gnomes, but are more often where the action is, using their guard to assist in blocks, or protecting the ball carrier.\n",
    "So as with the other gnomes, they want dodge first for more protection. After that sidestep.\n",
    "\n",
    "\n"
   ]
  }
 ],
 "metadata": {
  "kernelspec": {
   "display_name": "fumbbl_replays_env",
   "language": "python",
   "name": "python3"
  },
  "language_info": {
   "codemirror_mode": {
    "name": "ipython",
    "version": 3
   },
   "file_extension": ".py",
   "mimetype": "text/x-python",
   "name": "python",
   "nbconvert_exporter": "python",
   "pygments_lexer": "ipython3",
   "version": "3.12.3"
  }
 },
 "nbformat": 4,
 "nbformat_minor": 2
}

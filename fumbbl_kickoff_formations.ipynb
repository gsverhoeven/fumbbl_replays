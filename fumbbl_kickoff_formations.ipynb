{
 "cells": [
  {
   "attachments": {},
   "cell_type": "markdown",
   "metadata": {},
   "source": [
    "# Introducing the fumbbl_replays Python package\n",
    "\n",
    "I am a Blood Bowl scholar who like to perform Nufflytics in Python.\n",
    "On the FUMBBL website, a lot of high quality replay data is available as well as an API to conveniently fetch the data.\n",
    "In addition, the API provides up to date roster information.\n",
    "To do useful work with this data, we need a utility package / library.\n",
    "\n",
    "We also need a standard way to describe Blood Bowl games in a compact way, that is both human and machine readable.\n",
    "If we could converge on a standard Fantasy Football Game Notation, it serve would many purposes:\n",
    "* It would allow us to interchange data between software\n",
    "* it would help to train AI engines.\n",
    "\n",
    "In chess, there is the ***Portable Game Notation (PGN)**, which has become the de facto standard of describing Chess games.\n",
    "For Blood Bowl, already in 2002 some work has been done towards this end. David Morgan-Mar developed a notation for the purpose of sharing game logs over the internet. [https://www.dangermouse.net/games/bloodbowl/rules.html]\n",
    "\n",
    "So the package is being developed with this end goal in mind. As Blood Bowl is a much complexer game than Chess, we need some intermediate goals that bring us closer to the end goal. Thus, I started with extracting board positions, short hand notation for board pieces (players) and codifying player moves."
   ]
  },
  {
   "cell_type": "code",
   "execution_count": null,
   "metadata": {},
   "outputs": [],
   "source": [
    "%pip install -e ."
   ]
  },
  {
   "cell_type": "markdown",
   "metadata": {},
   "source": [
    "# Plotting Blood Bowl board positions\n",
    "\n",
    "If we want to describe a board state, we need to describe the pieces, and we need to describe the location of the pieces.\n",
    "(We also need to describe the \"state\" of the pieces, as players can be either standing, prone, or stunned, and can be in various special states such as \"Bone head\", \"Rooted\", \"Hypnotized\" etc. A full game state also contains additional information on rerolls, players on the bench etc. This is not yet implemented)\n",
    "\n",
    "Let's start with the location of the pieces. A grid reference system is needed.\n",
    "The game board of Blood Bowl has dimensions 15 x 26.\n",
    "It has cognitive benefit to use numbers for one dimension, and letters for the other dimensions. Fancy word: alphanumeric.\n",
    "Chess over the centuries has had various notations, and this notation is the one that became universally accepted.\n",
    "[https://en.wikipedia.org/wiki/Algebraic_notation_(chess)]\n",
    "The only choice left for us is then, which axis should have letters, and which axis should have the numbers.\n",
    "\n",
    "A strong argument was made on the BotBowl discord that distance to the end zone is very important in BB.\n",
    "By using numbers for the long axis, we can easily deduce that a Gutter Runner at position c15 is in scoring position: It needs 11 movement to score a touchdown at c26.\n",
    "This notation is also used by Cow Daddy Gaming in his \"What´s the play\" puzzles.\n",
    "\n",
    "I wrote a function `show_boardpos()` that displays the name of all the board positions.\n"
   ]
  },
  {
   "cell_type": "code",
   "execution_count": null,
   "metadata": {},
   "outputs": [],
   "source": [
    "import fumbbl_replays as fb\n",
    "\n",
    "fb.show_boardpos(rotation = 'H')"
   ]
  },
  {
   "cell_type": "markdown",
   "metadata": {},
   "source": [
    "Next is that we need a way to describe the playing pieces, and visualize them. In chess it is easy, there are only six different ones.\n",
    "In Blood Bowl, there are roughly 200 different playing pieces (30 teams, times 5 positionals, plus 50+ star players).\n",
    "Here the concept of a roster can help us out. \n",
    "I wrote a function `fetch_roster()` that fetches rosters from FUMBBL and displays the positions.\n",
    "It also contains links to icons that can represent the piece on the board.\n",
    "Take for example the High Elf roster."
   ]
  },
  {
   "cell_type": "code",
   "execution_count": null,
   "metadata": {},
   "outputs": [],
   "source": [
    "roster = fb.fetch_roster(\"High Elf\")\n",
    "roster"
   ]
  },
  {
   "cell_type": "markdown",
   "metadata": {},
   "source": [
    "It has four different pieces, AND FUMBBL has also already solved our problem of denoting them using text.\n",
    "So if we want to describe some action involving a High Elf Catcher, and there are four of them on the board, we could denote them by C1, C2, C3 and C4.\n",
    "This is compact, and has meaning within the context of the High Elf roster."
   ]
  },
  {
   "cell_type": "markdown",
   "metadata": {},
   "source": [
    "If we combine the descriptions of the pieces, and their location, we have enough to describe for example an initial setup formation before kick-off."
   ]
  },
  {
   "cell_type": "code",
   "execution_count": null,
   "metadata": {},
   "outputs": [],
   "source": [
    "roster = fb.fetch_roster(\"High Elf\")\n",
    "\n",
    "my_setup = ['setup', ['L1: g13', 'L2: h13', 'L3: i13', 'Z1: c11', 'Z2: m11', 'T1: h6', 'L4: e11', \n",
    "                      'L5: k11', 'C1: l10', 'C2: d10', 'L6: h11']]"
   ]
  },
  {
   "cell_type": "markdown",
   "metadata": {},
   "source": [
    "I wrote a function `create_position()` that combines the roster and the setup annotation to create an object that contains all the information to make a nice plot of the board state. The function `print_position()` prints a nicely formatted summary of the position.\n",
    "As default, a position is created for the home team, denoted as \"teamHome\"."
   ]
  },
  {
   "cell_type": "code",
   "execution_count": null,
   "metadata": {},
   "outputs": [],
   "source": [
    "positions = fb.create_position(roster, my_setup)\n",
    "fb.print_position(positions)"
   ]
  },
  {
   "cell_type": "markdown",
   "metadata": {},
   "source": [
    "Let's suppose that the High Elf team is playing Gnomes, for which we also fetch the roster and create a board position.\n",
    "As we already have a home team, we refer to this team as \"teamAway\"."
   ]
  },
  {
   "cell_type": "code",
   "execution_count": null,
   "metadata": {},
   "outputs": [],
   "source": [
    "roster = fb.fetch_roster(\"Gnome\")\n",
    "\n",
    "my_setup = ['setup', ['T2: j14', 'T1: f14', 'F1: h20', 'I1: b14', 'I2: n14', 'L3: e14', 'L6: k14', \n",
    "                      'B2: m15', 'B1: c15', 'L4: g15', 'F2: i16']]\n",
    "\n",
    "positions2 = fb.create_position(roster, my_setup, 'teamAway')\n",
    "\n",
    "fb.print_position(positions2)"
   ]
  },
  {
   "cell_type": "markdown",
   "metadata": {},
   "source": [
    "As a final step before plotting, we add both positions together.\n",
    "As both are `pandas` DataFrames, we use the `concat()` function from `pandas`  to combine (\"concatenate\") them."
   ]
  },
  {
   "cell_type": "code",
   "execution_count": null,
   "metadata": {},
   "outputs": [],
   "source": [
    "import pandas as pd\n",
    "\n",
    "positions = pd.concat([positions, positions2])"
   ]
  },
  {
   "cell_type": "markdown",
   "metadata": {},
   "source": [
    "The function `create_plot()` plots the board position.\n",
    "By default, it plots a horizontal pitch, with the team denoted as \"teamHome\" in red, and the other team in blue."
   ]
  },
  {
   "cell_type": "code",
   "execution_count": null,
   "metadata": {},
   "outputs": [],
   "source": [
    "fb.create_plot(positions)"
   ]
  },
  {
   "cell_type": "markdown",
   "metadata": {},
   "source": [
    "The `create_plot()` function allows us the swap the color of the teams, to change the pitch orientation to vertical, and to add a layer of semi-transparant tacklezones."
   ]
  },
  {
   "cell_type": "code",
   "execution_count": null,
   "metadata": {},
   "outputs": [],
   "source": [
    "fb.create_plot(positions, red_team = \"teamAway\", orientation = 'V', tackle_zones = True)"
   ]
  },
  {
   "cell_type": "markdown",
   "metadata": {},
   "source": [
    "The library also support moving single pieces (players). It currently only works for pieces that already exist in a board position.\n",
    "In the plot above, suppose we want to move the Woodland Fox F1 to board position `o26`:"
   ]
  },
  {
   "cell_type": "code",
   "execution_count": null,
   "metadata": {},
   "outputs": [],
   "source": [
    "positions = fb.move_piece(positions, \"teamAway\", \"F1\", \"o26\")\n",
    "\n",
    "fb.create_plot(positions, red_team = \"teamAway\")"
   ]
  },
  {
   "cell_type": "markdown",
   "metadata": {},
   "source": [
    "# Plotting board positions from FUMBBL replays\n",
    "\n",
    "Above we created board positions from scratch, using rosters from FUMBBL and a simple way to describe a board position.\n",
    "The package also allows us to plot board positions extracted from FUMBBL replay files.\n",
    "At this moment, only the board position right before kick-off can be plotted.\n",
    "Suppose we want to plot this position for match 4551601.\n",
    "\n",
    "We first need to fetch the replay data. The `fetch_data()` function takes the match_id as argument and returns five objects:\n",
    "the match_id, replay_id, a positions object, which team is the receiving team (i.e. playing offense), and some metadata (coach names, race names, and match touchdown result)."
   ]
  },
  {
   "cell_type": "code",
   "execution_count": null,
   "metadata": {},
   "outputs": [],
   "source": [
    "match_id, replay_id, positions, receiving_team, metadata = fb.fetch_data(match_id = 4551601)"
   ]
  },
  {
   "cell_type": "markdown",
   "metadata": {},
   "source": [
    "To plot the board state right before kick-off, we can use the `create_plot()` function in the same way as above.\n",
    "We plot the receiving team in red so we can see which team is playing offense and which team is playing defense."
   ]
  },
  {
   "cell_type": "code",
   "execution_count": null,
   "metadata": {},
   "outputs": [],
   "source": [
    "fb.create_plot(positions, red_team = receiving_team)"
   ]
  },
  {
   "cell_type": "markdown",
   "metadata": {},
   "source": [
    "Adjusting this board position both moving players one-by-one works also in the same way as above."
   ]
  },
  {
   "cell_type": "code",
   "execution_count": null,
   "metadata": {},
   "outputs": [],
   "source": [
    "positions = fb.move_piece(positions, \"teamAway\", \"Z1\", \"b26\")\n",
    "positions = fb.move_piece(positions, \"teamAway\", \"Z2\", \"o26\")\n",
    "\n",
    "fb.create_plot(positions, red_team = receiving_team)"
   ]
  },
  {
   "cell_type": "markdown",
   "metadata": {},
   "source": [
    "Suppose we think that the offensive setup is awesome, and we wish to share this setup with other coaches.\n",
    "Here the compact way to describe a setup using player abbreviations and the alphanumeric grid system comes in handy.\n",
    "To get the position in this notation I wrote the function `get_position()`.\n"
   ]
  },
  {
   "cell_type": "code",
   "execution_count": null,
   "metadata": {},
   "outputs": [],
   "source": [
    "fb.get_position(positions, home_away = 'teamHome')\n"
   ]
  },
  {
   "cell_type": "markdown",
   "metadata": {},
   "source": [
    "Suppose we think this setup is awesome, but it would be even better if the illusionist in row `l` would be a second Woodland Fox.\n",
    "We can take the setup (copy-paste), change the setup slightly, and create a new position.\n",
    "As we now only have a single team, we can rotate the pitch and crop to show only the upper part of it."
   ]
  },
  {
   "cell_type": "code",
   "execution_count": null,
   "metadata": {},
   "outputs": [],
   "source": [
    "roster = fb.fetch_roster(\"Gnome\")\n",
    "\n",
    "my_setup = ['setup', ['T2: j13', 'T1: f13', 'F2: h8', 'B2: g13', 'B1: i13', 'L2: h13', 'L5: m13', 'L4: k13', 'F2: l13', 'I1: b12', 'L1: k12']]\n",
    "\n",
    "positions = fb.create_position(roster, my_setup)\n",
    "\n",
    "fb.create_plot(positions, orientation= \"V\", crop = \"upper\")"
   ]
  },
  {
   "cell_type": "markdown",
   "metadata": {},
   "source": [
    "# Working with raw replays directly\n",
    "\n",
    "It is also possible to work with the raw FUMBBL replay files directly.\n",
    "I made a start with describing the file format in `doc/fumbbl_replay_file_format.md`.\n",
    "We can use `fetch_replay()` to retrieve a replay in JSON format.\n",
    "JSON consists of key-value pairs.\n",
    "We can for example query the value of the key \"gameStatus\":"
   ]
  },
  {
   "cell_type": "code",
   "execution_count": null,
   "metadata": {},
   "outputs": [],
   "source": [
    "my_match = fb.fetch_match(4447439)\n",
    "my_match['replayId']"
   ]
  },
  {
   "cell_type": "code",
   "execution_count": null,
   "metadata": {},
   "outputs": [],
   "source": [
    "my_replay = fb.fetch_replay(replay_id = 1606455) # \n",
    "my_replay['gameStatus']"
   ]
  },
  {
   "cell_type": "markdown",
   "metadata": {},
   "source": [
    "The replay contains both a game log, as well as full roster information on both teams.\n",
    "We can extract the roster information from the replay using the function `extract_rosters_from_replay()`.\n"
   ]
  },
  {
   "cell_type": "code",
   "execution_count": null,
   "metadata": {},
   "outputs": [],
   "source": [
    "df_positions = fb.extract_rosters_from_replay(my_replay)\n",
    "df_positions.query(\"home_away == 'teamAway'\")"
   ]
  },
  {
   "cell_type": "markdown",
   "metadata": {},
   "source": [
    "I wrote a replay parser that parses the gameLog section of a replay and transforms this into a `pandas` DataFrame object, i.e. a flat 2D table with rows and columns."
   ]
  },
  {
   "cell_type": "code",
   "execution_count": null,
   "metadata": {},
   "outputs": [],
   "source": [
    "df = fb.parse_replay(my_replay)\n",
    "df[0:4]"
   ]
  },
  {
   "cell_type": "markdown",
   "metadata": {},
   "source": [
    "We can use the `pandas` `query()` function to select rows based on conditions.\n",
    "This query selects all \"fieldModelSetPlayerCoordinate\" commands during setup before turn 1."
   ]
  },
  {
   "cell_type": "code",
   "execution_count": null,
   "metadata": {},
   "outputs": [],
   "source": [
    "positions = (df.query('turnNr == 0 & turnMode == \"setup\" & Half == 1 & \\\n",
    "                     modelChangeId == \"fieldModelSetPlayerCoordinate\"')\n",
    "                     .groupby('modelChangeKey')\n",
    "                     .tail(1))\n",
    "\n",
    "positions[0:4]"
   ]
  },
  {
   "cell_type": "markdown",
   "metadata": {},
   "source": [
    "As I was interested in **defensive** setup formations, I wrote a function `determine_receiving_team_at_start()` that does exactly what you'd expect given its name :)"
   ]
  },
  {
   "cell_type": "code",
   "execution_count": null,
   "metadata": {},
   "outputs": [],
   "source": [
    "fb.determine_receiving_team_at_start(df)"
   ]
  },
  {
   "cell_type": "markdown",
   "metadata": {},
   "source": [
    "# Towards FFGN\n",
    "\n",
    "Finally, there is a function `fumbbl2ffgn()` that is very mich a Work in progress.\n",
    "The idea is to take a game log, and systematically strip away all information that is redundant regarding the actual logging of what happened during the game. A minimal information set would consist of all actions taken, all decisions that were made (i.e. to use the dodge skill) and all dice results.\n",
    "After we have such a set, we can transform this information set to a compact annotation that is readable both by humans and machines, and is still a complete description of the game, in that the full game can be reproduced.\n",
    "The compact annotation would then be candidate to become the official \"Fantasy Football Game Notation\" , or FFGN for short."
   ]
  },
  {
   "cell_type": "code",
   "execution_count": null,
   "metadata": {},
   "outputs": [],
   "source": [
    "my_game_log = fb.fumbbl2ffgn(match_id = 4447439)"
   ]
  },
  {
   "cell_type": "markdown",
   "metadata": {},
   "source": [
    "This is where it currently stands. A single gamelog is now roughly 800 lines of text.\n",
    "The table below describes the first turn of a Wood Elf team against Necromantic.\n",
    "\n",
    "Using the table, I wrote a "
   ]
  },
  {
   "cell_type": "code",
   "execution_count": null,
   "metadata": {},
   "outputs": [],
   "source": [
    "pd.set_option('display.max_colwidth', None)\n",
    "\n",
    "# Turn 1 for the offensive\n",
    "(my_game_log\n",
    " .query(\"Half == 1 & turnNr == 1 & commandNr > 88 & commandNr < 211\")\n",
    " .filter(['modelChangeKey', 'modelChangeValue'])\n",
    ")"
   ]
  },
  {
   "cell_type": "markdown",
   "metadata": {},
   "source": [
    "*Thrower 1 moves. Catcher 1 moves. Lineman 1 moves. Lineman 4 blocks, chooses pow/push, pows Zombie lineman L5 into square g12, follows up, does not break armor.*\n",
    "*Treeman does not take root, does a 3D block on Zombie lineman 2, chooses pow into square i12, follows up to square h13, does not break armor.*\n",
    "*Lineman 5 blocks zombie lineman L4, pows into h12, does not follow up, does not break armor. Then linemen L3, L2, catcher C2 and wardancer W1 all do a move action.*\n",
    "*Finally Wardancer W2 moves, picks up the ball and moves a bit more. End turn.*"
   ]
  }
 ],
 "metadata": {
  "kernelspec": {
   "display_name": "requests_env",
   "language": "python",
   "name": "python3"
  },
  "language_info": {
   "codemirror_mode": {
    "name": "ipython",
    "version": 3
   },
   "file_extension": ".py",
   "mimetype": "text/x-python",
   "name": "python",
   "nbconvert_exporter": "python",
   "pygments_lexer": "ipython3",
   "version": "3.6.9"
  },
  "orig_nbformat": 4
 },
 "nbformat": 4,
 "nbformat_minor": 2
}

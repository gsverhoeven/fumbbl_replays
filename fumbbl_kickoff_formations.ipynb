{
 "cells": [
  {
   "attachments": {},
   "cell_type": "markdown",
   "metadata": {},
   "source": [
    "# Python chess\n",
    "\n"
   ]
  },
  {
   "cell_type": "code",
   "execution_count": null,
   "metadata": {},
   "outputs": [],
   "source": [
    "import chess\n",
    "board = chess.Board()\n",
    "board"
   ]
  },
  {
   "cell_type": "code",
   "execution_count": null,
   "metadata": {},
   "outputs": [],
   "source": [
    "Nf3 = chess.Move.from_uci(\"g1f3\")\n",
    "board.push(Nf3)\n",
    "\n",
    "board"
   ]
  },
  {
   "cell_type": "code",
   "execution_count": null,
   "metadata": {},
   "outputs": [],
   "source": [
    "board.fen()"
   ]
  },
  {
   "cell_type": "markdown",
   "metadata": {},
   "source": [
    "# python-fumbbl_replays"
   ]
  },
  {
   "cell_type": "code",
   "execution_count": null,
   "metadata": {},
   "outputs": [],
   "source": [
    "%pip install -e ."
   ]
  },
  {
   "cell_type": "code",
   "execution_count": null,
   "metadata": {},
   "outputs": [],
   "source": [
    "import fumbbl_replays as fb\n",
    "\n",
    "import pandas as pd\n",
    "\n",
    "pd.set_option('display.max_rows', 500)\n",
    "pd.set_option('display.max_columns', 500)\n",
    "pd.options.mode.chained_assignment = None\n",
    "\n",
    "fb.show_boardpos(rotation = 'H')"
   ]
  },
  {
   "cell_type": "code",
   "execution_count": null,
   "metadata": {},
   "outputs": [],
   "source": [
    "roster = fb.fetch_roster(\"High Elf\")\n",
    "roster"
   ]
  },
  {
   "cell_type": "markdown",
   "metadata": {},
   "source": [
    "Next we need to create a \"position\" object. For this we need a roster and a description of the position."
   ]
  },
  {
   "cell_type": "code",
   "execution_count": null,
   "metadata": {},
   "outputs": [],
   "source": [
    "my_setup = ['setup', ['L1: g13', 'L2: h13', 'L3: i13', 'Z1: c11', 'Z2: m11', 'T1: h6', 'L4: e11', \n",
    "                      'L5: k11', 'C1: l10', 'C2: d10', 'L6: h11']]\n",
    "\n",
    "roster = fb.fetch_roster(\"High Elf\")\n",
    "positions2 = fb.create_position(roster, my_setup, 'teamAway')\n",
    "fb.print_position(positions2)"
   ]
  },
  {
   "cell_type": "code",
   "execution_count": null,
   "metadata": {},
   "outputs": [],
   "source": [
    "my_setup = ['setup', ['T2: j14', 'T1: f14', 'F1: h20', 'I1: b14', 'I2: n14', 'L3: e14', 'L6: k14', \n",
    "                      'B2: m15', 'B1: c15', 'L4: g15', 'F2: i16']]\n",
    "\n",
    "roster = fb.fetch_roster(\"Gnome\")\n",
    "positions = fb.create_position(roster, my_setup)\n",
    "\n",
    "positions = pd.concat([positions, positions2])\n",
    "fb.create_plot(positions, receiving_team = \"teamHome\", orientation = 'H')"
   ]
  },
  {
   "attachments": {},
   "cell_type": "markdown",
   "metadata": {},
   "source": [
    "# How it works\n",
    "\n",
    "\n"
   ]
  },
  {
   "cell_type": "code",
   "execution_count": null,
   "metadata": {},
   "outputs": [],
   "source": [
    "match_id, replay_id, positions, receiving_team, metadata = fb.fetch_data(match_id = 4551601)\n",
    "\n",
    "fb.create_plot(positions, receiving_team, orientation = 'H')"
   ]
  },
  {
   "cell_type": "code",
   "execution_count": null,
   "metadata": {},
   "outputs": [],
   "source": [
    "match_id, replay_id, positions, receiving_team, metadata = fb.fetch_data(match_id = 4528210)"
   ]
  },
  {
   "cell_type": "code",
   "execution_count": null,
   "metadata": {},
   "outputs": [],
   "source": [
    "positions = fb.move_piece(positions, \"teamAway\", \"Tr1\", \"o26\")\n",
    "positions = fb.move_piece(positions, \"teamHome\", \"RO1\", \"b26\")\n",
    "\n",
    "fb.create_plot(positions, receiving_team, orientation = 'H')"
   ]
  },
  {
   "cell_type": "code",
   "execution_count": null,
   "metadata": {},
   "outputs": [],
   "source": [
    "match_id, replay_id, positions, receiving_team, metadata = fb.fetch_data(match_id = 4545345)\n",
    "\n",
    "fb.print_position(positions, home_away = 'teamAway')"
   ]
  },
  {
   "cell_type": "code",
   "execution_count": null,
   "metadata": {},
   "outputs": [],
   "source": [
    "# lets move beastmaster B2\n",
    "positions = fb.move_piece(positions, \"teamAway\", \"B2\", \"g23\")\n",
    "\n",
    "fb.get_position(positions, home_away = 'teamAway')\n"
   ]
  },
  {
   "cell_type": "code",
   "execution_count": null,
   "metadata": {},
   "outputs": [],
   "source": [
    "# we can feed this back in as a new position with the fox F2 at a different position\n",
    "my_setup = ['setup', ['T2: j14', 'T1: f14', 'F1: h20', 'I1: b14', 'I2: n14', 'L3: e14', 'L6: k14', \n",
    "                      'B2: g23', 'B1: c15', 'L4: g15', 'F2: a1']]\n",
    "\n",
    "positions = fb.put_position(positions, my_setup, \"teamAway\")\n",
    "\n",
    "fb.get_position(positions, \"teamAway\")\n",
    "fb.create_plot(positions, \"teamAway\")"
   ]
  },
  {
   "cell_type": "code",
   "execution_count": null,
   "metadata": {},
   "outputs": [],
   "source": [
    "# lets restore the original position and plot the board vertically\n",
    "positions = fb.move_piece(positions, \"teamAway\", \"F2\", \"i16\")\n",
    "positions = fb.move_piece(positions, \"teamAway\", \"B2\", \"m15\")\n",
    "\n",
    "fb.create_plot(positions, \"teamAway\", orientation = \"V\")"
   ]
  },
  {
   "cell_type": "markdown",
   "metadata": {},
   "source": [
    "# Application 1: Visualizing a particular setup\n",
    "\n",
    "On FUMBBL there is a great guide on defensive setups. Suppose we wish to visualize the \"arrowhead\" setup, advised for Undead.\n",
    "\n",
    "_The arrowhead defense is a good defense for Undead, Necromantic, or Chaos Renegades, against a highly mobile opponent. It’s similar to a ziggurat or chevron defense, but the 3-column midfielders or safeties have been moved into the 0-column to prevent runs up the gut, and also to be able to redeploy from a central position, while the 2-column strong midfielders have been pushed out to the 3-column to form a spine screen. It’s strong in the wide zone and up the center, but the 3-column midfielders are seriously exposed, and unless they have both a lot of Strength and the Stand Firm skill, this position is highly vulnerable._\n",
    "\n",
    "The Arrowhead Defense\n",
    "\n",
    "```\n",
    "7 6 5 4|3 2 1 0 1 2 3|4 5 6 7   column\n",
    "\n",
    "- - - -|- - x x x - -|- - - -   Line\n",
    "\n",
    "- - - -|- - - - - - -|- - - -   -1\n",
    "\n",
    "- - x -|x - - x - - x|- x - -   -2\n",
    "\n",
    "- x - -|- - - x - - -|- - x -   -3\n",
    "```"
   ]
  },
  {
   "cell_type": "code",
   "execution_count": null,
   "metadata": {},
   "outputs": [],
   "source": [
    "fb.show_boardpos(rotation = 'H')"
   ]
  },
  {
   "cell_type": "code",
   "execution_count": null,
   "metadata": {},
   "outputs": [],
   "source": [
    "roster = fb.fetch_roster(\"Shambling Undead\")\n",
    "roster"
   ]
  },
  {
   "cell_type": "code",
   "execution_count": null,
   "metadata": {},
   "outputs": [],
   "source": [
    "my_setup = ['setup', ['Z1: g14', 'Z2: h14', 'Z3: i14', \n",
    "                      'W1: e16', 'W2: k16', 'G1: h16', 'G2: h17', \n",
    "                      'M1: c16', 'M2: m16', 'Z4: b17', 'Z5: n17']]\n",
    "\n",
    "\n",
    "positions = fb.create_position(roster, my_setup)\n",
    "\n",
    "fb.create_plot(positions, receiving_team = \"teamAway\", orientation = 'V', crop = \"lower\")"
   ]
  },
  {
   "attachments": {},
   "cell_type": "markdown",
   "metadata": {},
   "source": [
    "# Application 2: saving defensive setups as PNGs for use in playbooks\n",
    "\n",
    "We want to plot all defensive setups together with match outcome from the Tilean Team Cup.\n",
    "The Tilean Team Cup was an online NAF tournament held on FUMBBL from march 2023 to may 2023."
   ]
  },
  {
   "cell_type": "code",
   "execution_count": null,
   "metadata": {},
   "outputs": [],
   "source": [
    "# point this to the location of the HDF5 datasets\n",
    "path_to_datasets = '../fumbbl_datasets/datasets/current/'\n",
    "\n",
    "# FUMBBL matches\n",
    "target = 'df_matches.csv'\n",
    "df_matches = pd.read_csv(path_to_datasets + target) \n",
    "\n",
    "# # subset on tilean team cup\n",
    "df_matches = df_matches.query('tournament_id == 59383')\n",
    "\n",
    "\n",
    "tilean_replays = df_matches['match_id'].values\n",
    "\n",
    "tilean_replays = tilean_replays[0:3]\n",
    "tilean_replays"
   ]
  },
  {
   "cell_type": "code",
   "execution_count": null,
   "metadata": {},
   "outputs": [],
   "source": [
    "fullrun = 0\n",
    "\n",
    "if fullrun:\n",
    "    id = []\n",
    "    match_ids = []\n",
    "    race_defense = []\n",
    "    race_offense = []\n",
    "\n",
    "    for match_id in tilean_replays:\n",
    "        match_id, replay_id, positions, receiving_team, metadata = fb.fetch_data(match_id)  # gnome 4543329 #4528210 #4542768\n",
    "        plot = fb.write_plot(match_id, positions, receiving_team, metadata, refresh = True, verbose = True)\n",
    "        id.append(int(replay_id))\n",
    "        match_ids.append(int(match_id))\n",
    "        race_defense.append(metadata[2])\n",
    "        race_offense.append(metadata[3])\n",
    "\n",
    "    df_replays = pd.DataFrame( {\"matchId\": match_ids,\n",
    "                                \"replayId\": id,\n",
    "                                \"raceOffense\": race_offense,\n",
    "                                \"raceDefense\": race_defense})\n",
    "    target = 'kickoff_pngs/df_replays'\n",
    "    df_replays.to_csv(target + '.csv', index = False)\n",
    "else:\n",
    "    # FUMBBL matches\n",
    "    target = 'kickoff_pngs/df_replays.csv'\n",
    "    df_replays = pd.read_csv(target)  "
   ]
  },
  {
   "cell_type": "code",
   "execution_count": null,
   "metadata": {},
   "outputs": [],
   "source": [
    "df_replays"
   ]
  },
  {
   "cell_type": "code",
   "execution_count": null,
   "metadata": {},
   "outputs": [],
   "source": [
    "from PIL import Image\n",
    "Image.open(\"kickoff_pngs/wood_elf/1606445_4447434_kickoff_lower_defense.png\")"
   ]
  },
  {
   "cell_type": "markdown",
   "metadata": {},
   "source": [
    "# Application 3: Working with replays directly: FFGN\n"
   ]
  },
  {
   "cell_type": "code",
   "execution_count": null,
   "metadata": {},
   "outputs": [],
   "source": [
    "my_replay = fb.fetch_replay(1602344)\n",
    "\n",
    "df = fb.parse_replay(my_replay) \n",
    "\n",
    "positions = df.query('turnNr == 0 & turnMode == \"setup\" & Half == 1 & \\\n",
    "                     modelChangeId == \"fieldModelSetPlayerCoordinate\"').groupby('modelChangeKey').tail(1)\n",
    "\n",
    "positions"
   ]
  },
  {
   "cell_type": "code",
   "execution_count": null,
   "metadata": {},
   "outputs": [],
   "source": [
    "df_positions = fb.extract_rosters_from_replay(my_replay)\n",
    "\n",
    "receiving_team = fb.determine_receiving_team_at_start(df)"
   ]
  },
  {
   "cell_type": "code",
   "execution_count": null,
   "metadata": {},
   "outputs": [],
   "source": [
    "df = fb.fumbbl2ffgn(match_id = 4447439)"
   ]
  },
  {
   "cell_type": "code",
   "execution_count": null,
   "metadata": {},
   "outputs": [],
   "source": [
    "pd.set_option('display.max_colwidth', None)\n",
    "\n",
    "# Turn 1 for the offensive\n",
    "(df\n",
    " .query(\"Half == 1 & turnNr == 1 & commandNr > 88 & commandNr < 211\")\n",
    " .filter(['commandNr', 'turnMode', 'modelChangeId', 'modelChangeKey', 'modelChangeValue'])\n",
    ")"
   ]
  }
 ],
 "metadata": {
  "kernelspec": {
   "display_name": "requests_env",
   "language": "python",
   "name": "python3"
  },
  "language_info": {
   "codemirror_mode": {
    "name": "ipython",
    "version": 3
   },
   "file_extension": ".py",
   "mimetype": "text/x-python",
   "name": "python",
   "nbconvert_exporter": "python",
   "pygments_lexer": "ipython3",
   "version": "3.6.9"
  },
  "orig_nbformat": 4
 },
 "nbformat": 4,
 "nbformat_minor": 2
}

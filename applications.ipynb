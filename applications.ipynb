{
 "cells": [
  {
   "cell_type": "code",
   "execution_count": null,
   "metadata": {},
   "outputs": [],
   "source": [
    "%pip install -e . --quiet"
   ]
  },
  {
   "cell_type": "markdown",
   "metadata": {},
   "source": [
    "This blog post describes three use cases of the `fumbbl_replays` package.\n",
    "For the first use case, the functionality of the package is sufficient, with no additional programming needed.\n",
    "For the other two use cases, additional programming is needed.\n",
    "In the future, this code could be turned into a function and added to the package."
   ]
  },
  {
   "cell_type": "markdown",
   "metadata": {},
   "source": [
    "# Application 1: What's the play\n",
    "\n"
   ]
  },
  {
   "cell_type": "code",
   "execution_count": null,
   "metadata": {},
   "outputs": [],
   "source": [
    "import sys\n",
    "from PIL import Image, ImageDraw\n",
    "\n",
    "with Image.open(\"doc/Whats the play 04 - Dwarf Vs Elven Union.png\") as im:\n",
    "   display(im)"
   ]
  },
  {
   "cell_type": "markdown",
   "metadata": {},
   "source": [
    "Lets try to reproduce this plot with `fumbbl_replays`.\n",
    "We start with fetching a Dwarf Roster. \n",
    "Then create the positions including playerStates (i.e. the Stunned Troll Slayer). \n",
    "Then finally we add the skills."
   ]
  },
  {
   "cell_type": "code",
   "execution_count": null,
   "metadata": {},
   "outputs": [],
   "source": [
    "import fumbbl_replays as fb\n",
    "\n",
    "my_roster = fb.fetch_roster(\"Dwarf\")\n",
    "\n",
    "my_setup = ['setup', ['B3: d14', 'TS4: b15X', 'L10: l17', \n",
    "                      'L11: n17', 'L9: j19', 'L5: l20', 'L8: n20', \n",
    "                      'L6: j21', 'R1: m21o', 'L7: l22', 'B2: n22']]\n",
    "\n",
    "positions = fb.create_position(my_roster, my_setup)\n",
    "\n",
    "fb.add_skill_to_player(positions, \"R1\", \"On the Ball\")\n",
    "fb.add_skill_to_player(positions, \"B3\", \"Guard\")\n",
    "#fb.add_skill_to_player(positions, \"TS4\", \"Block\") # TS already comes with block\n",
    "fb.add_skill_to_player(positions, \"TS4\", \"Mighty Blow\")\n",
    "fb.add_skill_to_player(positions, \"L7\", \"Guard\")\n",
    "fb.add_skill_to_player(positions, \"L8\", \"Guard\")\n",
    "fb.add_skill_to_player(positions, \"L9\", \"Guard\")\n",
    "fb.add_skill_to_player(positions, \"L10\", \"Guard\")"
   ]
  },
  {
   "cell_type": "markdown",
   "metadata": {},
   "source": [
    "Repeat for Elven Union:"
   ]
  },
  {
   "cell_type": "code",
   "execution_count": null,
   "metadata": {},
   "outputs": [],
   "source": [
    "import pandas as pd\n",
    "\n",
    "my_roster = fb.fetch_roster(\"Elven Union\")\n",
    "\n",
    "my_setup = ['setup', ['T1: l25', 'C3: i24', 'B6: i23', \n",
    "                      'B7: g22', 'L10: i21', 'L11: h20', 'L12: c16', \n",
    "                      'L8: c15', 'C2: h11']]\n",
    "\n",
    "positions2 = fb.create_position(my_roster, my_setup, home_away = 'teamAway')\n",
    "\n",
    "fb.add_skill_to_player(positions2, \"T1\", \"Accurate\")\n",
    "fb.add_skill_to_player(positions2, \"T1\", \"Leader\")\n",
    "fb.add_skill_to_player(positions2, \"C3\", \"Dodge\")\n",
    "fb.add_skill_to_player(positions2, \"C3\", \"Block\")\n",
    "fb.add_skill_to_player(positions2, \"B6\", \"Dodge\")\n",
    "fb.add_skill_to_player(positions2, \"B6\", \"Strip Ball\")\n",
    "fb.add_skill_to_player(positions2, \"B7\", \"Mighty Blow\")\n",
    "fb.add_skill_to_player(positions2, \"L10\", \"Block\")\n",
    "\n",
    "positions = pd.concat([positions, positions2])"
   ]
  },
  {
   "cell_type": "code",
   "execution_count": null,
   "metadata": {},
   "outputs": [],
   "source": [
    "fb.create_plot(positions, red_team = \"teamAway\", orientation = 'H', skill_bands = True)"
   ]
  },
  {
   "cell_type": "markdown",
   "metadata": {},
   "source": [
    "We can reposition the Elven Union players to describe a possible solution to the what's the play puzzle.\n",
    "This facilitates discussions of alternative plays, and the risks and benefits associated with them."
   ]
  },
  {
   "cell_type": "code",
   "execution_count": null,
   "metadata": {},
   "outputs": [],
   "source": [
    "positions = fb.move_piece(positions, \"teamAway\", \"T1\", \"n25\")\n",
    "positions = fb.move_piece(positions, \"teamAway\", \"B6\", \"n24\")\n",
    "positions = fb.move_piece(positions, \"teamAway\", \"C3\", \"k25\")\n",
    "positions = fb.move_piece(positions, \"teamAway\", \"B7\", \"k24\")\n",
    "positions = fb.move_piece(positions, \"teamAway\", \"L10\", \"h24\")\n",
    "positions = fb.move_piece(positions, \"teamAway\", \"L11\", \"h25\")\n",
    "positions = fb.move_piece(positions, \"teamAway\", \"L12\", \"g22\")\n",
    "positions = fb.move_piece(positions, \"teamAway\", \"C2\", \"g19\")\n",
    "\n",
    "fb.create_plot(positions, red_team = \"teamAway\", orientation = 'H', skill_bands = True)"
   ]
  },
  {
   "cell_type": "markdown",
   "metadata": {},
   "source": [
    "The remaining lineman L8 could finally do a dodge and two rushes to end up in g23."
   ]
  },
  {
   "cell_type": "markdown",
   "metadata": {},
   "source": [
    "This also immediately gives rise to new feature requests: highlighting squares, drawing arrows, some form of pathfinding (e.g. find shortest path without dice rolling)."
   ]
  },
  {
   "cell_type": "markdown",
   "metadata": {},
   "source": [
    "# Application 2: Plotting defensive tournament setups\n",
    "\n",
    "Here the idea is to visualize defensive setups in a tournament setting.\n",
    "\n",
    "To test the idea, I chose the Tilean Team Cup. It was an online NAF tournament in 2023 on FUMBBL that used the World Cup ruleset.\n",
    "https://member.thenaf.net/index.php?module=NAF&type=tournaments&func=view&id=7495\n",
    "\n",
    "NAF tournament director Stimme wrote:\n",
    "\n",
    "https://www.thenaf.net/2023/05/tournament-director-blog-may-2023/\n",
    "\n",
    "*Among the individual coaches, Siggi stood out with his Amazons, earning the title of best coach with a flawless record of six wins. Kurjo’s Orcs secured second place, while helborg’s Dark Elves came in third, both with five wins and a draw.* \n"
   ]
  },
  {
   "cell_type": "code",
   "execution_count": null,
   "metadata": {},
   "outputs": [],
   "source": [
    "import pandas as pd\n",
    "import fumbbl_replays as fb\n",
    "\n",
    "# point this to the location of the HDF5 datasets\n",
    "path_to_datasets = '../fumbbl_datasets/datasets/current/'\n",
    "\n",
    "# FUMBBL matches\n",
    "target = 'df_matches.csv'\n",
    "df_matches = pd.read_csv(path_to_datasets + target) \n",
    "\n",
    "# # subset on tilean team cup\n",
    "df_matches = df_matches.query('tournament_id == 59383')\n",
    "\n",
    "my_vec = df_matches['coach1_ranking'] == 'siggi'\n",
    "my_vec2 = df_matches['coach2_ranking'] == 'siggi'\n",
    "\n",
    "df_matches = df_matches[(my_vec + my_vec2)]\n",
    "\n",
    "tilean_replays = df_matches['match_id'].values"
   ]
  },
  {
   "cell_type": "code",
   "execution_count": null,
   "metadata": {},
   "outputs": [],
   "source": [
    "fullrun = 1\n",
    "\n",
    "if fullrun:\n",
    "    id = []\n",
    "    match_ids = []\n",
    "    race_defense = []\n",
    "    race_offense = []\n",
    "\n",
    "    for match_id in tilean_replays:\n",
    "        match_id, replay_id, positions, receiving_team, metadata = fb.fetch_data(match_id) \n",
    "        plot = fb.write_plot(match_id, positions, receiving_team, metadata, refresh = True, verbose = True)\n",
    "        id.append(int(replay_id))\n",
    "        match_ids.append(int(match_id))\n",
    "        race_defense.append(metadata[4])\n",
    "        race_offense.append(metadata[5])\n",
    "\n",
    "    df_replays = pd.DataFrame( {\"matchId\": match_ids,\n",
    "                                \"replayId\": id,\n",
    "                                \"raceOffense\": race_offense,\n",
    "                                \"raceDefense\": race_defense})\n",
    "    target = 'kickoff_pngs/df_replays'\n",
    "    df_replays.to_csv(target + '.csv', index = False)\n",
    "else:\n",
    "    # FUMBBL matches\n",
    "    target = 'kickoff_pngs/df_replays.csv'\n",
    "    df_replays = pd.read_csv(target)  "
   ]
  },
  {
   "cell_type": "code",
   "execution_count": null,
   "metadata": {},
   "outputs": [],
   "source": [
    "metadata"
   ]
  },
  {
   "cell_type": "code",
   "execution_count": null,
   "metadata": {},
   "outputs": [],
   "source": [
    "from PIL import Image\n",
    "Image.open(\"kickoff_pngs/wood_elf/1606445_4447434_kickoff_lower_defense.png\")"
   ]
  },
  {
   "cell_type": "code",
   "execution_count": null,
   "metadata": {},
   "outputs": [],
   "source": [
    "my_replay = fb.fetch_replay(match_id = 4447483)\n",
    "rosters = fb.extract_rosters_from_replay(my_replay)\n",
    "\n",
    "(rosters\n",
    " .query('race == \"Amazon\"')\n",
    " .filter(['short_name', 'positionName', 'playerName', 'skillArrayRoster', 'learned_skills', 'cost', 'recoveringInjury'])\n",
    ")"
   ]
  },
  {
   "cell_type": "markdown",
   "metadata": {},
   "source": [
    "# Application 3: Roster development in league play\n",
    "\n"
   ]
  },
  {
   "cell_type": "code",
   "execution_count": null,
   "metadata": {},
   "outputs": [],
   "source": [
    "import pandas as pd\n",
    "import fumbbl_replays as fb\n",
    "\n",
    "pd.set_option('display.max_colwidth', None)\n",
    "\n",
    "# We do gnomes\n",
    "matches = [4542630, 4543329, 4543359, 4544140, 4545345, 4545914, 4546710, 4546875, 4546908, 4548520, 4548537, 4548898, 4549961, 4549984, 4550284]\n",
    "team_id = '1177218'\n",
    "\n",
    "# top welf too\n",
    "#matches = [4543274, 4543281, 4543501, 4543513, 4543524, 4551199, 4551662, 4551696, 4551850, 4551912, 4551947, 4551983, 4552023, 4552066, 4552172]\n",
    "#team_id = '1176759'\n",
    "\n",
    "i = 0\n",
    "\n",
    "for match_id in matches:\n",
    "    my_replay = fb.fetch_replay(match_id)\n",
    "    df_positions = fb.extract_rosters_from_replay(my_replay) \n",
    "    df_positions = (df_positions\n",
    "                    .query(\"teamId == @team_id\")\n",
    "                    .filter(['short_name', 'positionName', 'playerName', 'skillArrayRoster', 'learned_skills', 'cost', 'recoveringInjury'])\n",
    "                    )\n",
    "    df_positions['match_count'] = i+1\n",
    "    if i == 0:\n",
    "        res = df_positions\n",
    "    else:\n",
    "        res = pd.concat([res, df_positions])\n",
    "    i = i + 1\n",
    "\n",
    "    \n",
    "\n"
   ]
  },
  {
   "cell_type": "code",
   "execution_count": null,
   "metadata": {},
   "outputs": [],
   "source": [
    "obj = res.query(\"match_count == 15 & recoveringInjury == 'None'\").agg({'cost' : sum})\n",
    "obj + 200000 + 110000 # cost plus 3x rerolls and apo plus skill value increases"
   ]
  },
  {
   "cell_type": "code",
   "execution_count": null,
   "metadata": {},
   "outputs": [],
   "source": [
    "obj = res.query(\"match_count == 15 & recoveringInjury == 'None'\")\n",
    "obj"
   ]
  },
  {
   "cell_type": "code",
   "execution_count": null,
   "metadata": {},
   "outputs": [],
   "source": [
    "player_names = res.query(\"match_count == 1\")['playerName'].values\n",
    "\n",
    "(res.query('playerName in @player_names')\n",
    " .pivot(index = ['playerName', 'positionName', 'cost'], columns = 'match_count', values = 'learned_skills')\n",
    " .sort_values(by=['cost'], ascending=False)\n",
    " .fillna(value = '-')\n",
    ")"
   ]
  }
 ],
 "metadata": {
  "kernelspec": {
   "display_name": "requests_env",
   "language": "python",
   "name": "python3"
  },
  "language_info": {
   "codemirror_mode": {
    "name": "ipython",
    "version": 3
   },
   "file_extension": ".py",
   "mimetype": "text/x-python",
   "name": "python",
   "nbconvert_exporter": "python",
   "pygments_lexer": "ipython3",
   "version": "3.6.9"
  }
 },
 "nbformat": 4,
 "nbformat_minor": 2
}

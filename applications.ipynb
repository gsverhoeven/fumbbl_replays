{
 "cells": [
  {
   "cell_type": "code",
   "execution_count": null,
   "metadata": {},
   "outputs": [],
   "source": [
    "%pip install -e . --quiet"
   ]
  },
  {
   "cell_type": "markdown",
   "metadata": {},
   "source": [
    "# Application 1: Visualizing a particular setup\n",
    "\n",
    "On FUMBBL there is a great guide on defensive setups. Suppose we wish to visualize the \"arrowhead\" setup, advised for Undead.\n",
    "\n",
    "_The arrowhead defense is a good defense for Undead, Necromantic, or Chaos Renegades, against a highly mobile opponent. It’s similar to a ziggurat or chevron defense, but the 3-column midfielders or safeties have been moved into the 0-column to prevent runs up the gut, and also to be able to redeploy from a central position, while the 2-column strong midfielders have been pushed out to the 3-column to form a spine screen. It’s strong in the wide zone and up the center, but the 3-column midfielders are seriously exposed, and unless they have both a lot of Strength and the Stand Firm skill, this position is highly vulnerable._\n",
    "\n",
    "The Arrowhead Defense\n",
    "\n",
    "```{text}\n",
    "7 6 5 4|3 2 1 0 1 2 3|4 5 6 7   column\n",
    "- - - -|- - x x x - -|- - - -   Line\n",
    "- - - -|- - - - - - -|- - - -   -1\n",
    "- - x -|x - - x - - x|- x - -   -2\n",
    "- x - -|- - - x - - -|- - x -   -3\n",
    "```"
   ]
  },
  {
   "cell_type": "code",
   "execution_count": null,
   "metadata": {},
   "outputs": [],
   "source": [
    "import fumbbl_replays as fb\n",
    "fb.show_boardpos(rotation = 'V', crop = 'lower')"
   ]
  },
  {
   "cell_type": "code",
   "execution_count": null,
   "metadata": {},
   "outputs": [],
   "source": [
    "roster = fb.fetch_roster(\"Shambling Undead\")\n",
    "roster"
   ]
  },
  {
   "cell_type": "code",
   "execution_count": null,
   "metadata": {},
   "outputs": [],
   "source": [
    "my_setup = ['setup', ['Z1: g14', 'Z2: h14', 'Z3: i14', \n",
    "                      'W1: e16', 'W2: k16', 'G1: h16', 'G2: h17', \n",
    "                      'M1: c16', 'M2: m16', 'Z4: b17', 'Z5: n17']]\n",
    "\n",
    "\n",
    "positions = fb.create_position(roster, my_setup)\n",
    "\n",
    "(positions\n",
    " .query(\"home_away == 'teamHome'\")\n",
    " .filter(['short_name', 'positionName', 'skillArrayRoster', 'learned_skills', 'skill_colors', 'boardpos'])\n",
    ")"
   ]
  },
  {
   "cell_type": "code",
   "execution_count": null,
   "metadata": {},
   "outputs": [],
   "source": [
    "fb.add_skill_to_player(positions, \"W1\", \"Guard\")\n",
    "fb.add_skill_to_player(positions, \"G1\", \"Block\")\n",
    "\n",
    "(positions\n",
    " .query(\"home_away == 'teamHome'\")\n",
    " .filter(['short_name', 'positionName', 'skillArrayRoster', 'learned_skills', 'skill_colors', 'boardpos'])\n",
    ")\n",
    "\n"
   ]
  },
  {
   "cell_type": "code",
   "execution_count": null,
   "metadata": {},
   "outputs": [],
   "source": [
    "fb.create_plot(positions, red_team = \"teamAway\", orientation = 'V', crop = \"lower\", skill_bands = True)"
   ]
  },
  {
   "cell_type": "markdown",
   "metadata": {},
   "source": [
    "for whats the play we need to display prone and stunned as well. Should include this in the notation. Maybe x and /\n",
    "\n",
    "my_setup = ['setup', ['Z1: g14x', 'Z2: h14', 'Z3: i14', \n",
    "                      'W1: e16', 'W2: k16/', 'G1: h16/', 'G2: h17', \n",
    "                      'M1: c16', 'M2: m16', 'Z4: b17', 'Z5: n17']]"
   ]
  },
  {
   "cell_type": "markdown",
   "metadata": {},
   "source": [
    "# Application 2: saving defensive setups as PNGs for use in playbooks\n",
    "\n",
    "We want to plot all defensive setups together with match outcome from the Tilean Team Cup.\n",
    "The Tilean Team Cup was an online NAF tournament held on FUMBBL from march 2023 to may 2023."
   ]
  },
  {
   "cell_type": "code",
   "execution_count": null,
   "metadata": {},
   "outputs": [],
   "source": [
    "import pandas as pd\n",
    "import fumbbl_replays as fb\n",
    "\n",
    "# point this to the location of the HDF5 datasets\n",
    "path_to_datasets = '../fumbbl_datasets/datasets/current/'\n",
    "\n",
    "# FUMBBL matches\n",
    "target = 'df_matches.csv'\n",
    "df_matches = pd.read_csv(path_to_datasets + target) \n",
    "\n",
    "# # subset on tilean team cup\n",
    "df_matches = df_matches.query('tournament_id == 59383')\n",
    "\n",
    "\n",
    "tilean_replays = df_matches['match_id'].values\n",
    "\n",
    "tilean_replays = tilean_replays[161:]\n",
    "#tilean_replays"
   ]
  },
  {
   "cell_type": "code",
   "execution_count": null,
   "metadata": {},
   "outputs": [],
   "source": [
    "fullrun = 1\n",
    "\n",
    "if fullrun:\n",
    "    id = []\n",
    "    match_ids = []\n",
    "    race_defense = []\n",
    "    race_offense = []\n",
    "\n",
    "    for match_id in tilean_replays:\n",
    "        match_id, replay_id, positions, receiving_team, metadata = fb.fetch_data(match_id)  # gnome 4543329 #4528210 #4542768\n",
    "        plot = fb.write_plot(match_id, positions, receiving_team, metadata, refresh = True, verbose = True)\n",
    "        id.append(int(replay_id))\n",
    "        match_ids.append(int(match_id))\n",
    "        race_defense.append(metadata[2])\n",
    "        race_offense.append(metadata[3])\n",
    "\n",
    "    df_replays = pd.DataFrame( {\"matchId\": match_ids,\n",
    "                                \"replayId\": id,\n",
    "                                \"raceOffense\": race_offense,\n",
    "                                \"raceDefense\": race_defense})\n",
    "    target = 'kickoff_pngs/df_replays'\n",
    "    df_replays.to_csv(target + '.csv', index = False)\n",
    "else:\n",
    "    # FUMBBL matches\n",
    "    target = 'kickoff_pngs/df_replays.csv'\n",
    "    df_replays = pd.read_csv(target)  "
   ]
  },
  {
   "cell_type": "code",
   "execution_count": null,
   "metadata": {},
   "outputs": [],
   "source": [
    "len(race_offense)"
   ]
  },
  {
   "cell_type": "code",
   "execution_count": null,
   "metadata": {},
   "outputs": [],
   "source": [
    "df_replays"
   ]
  },
  {
   "cell_type": "code",
   "execution_count": null,
   "metadata": {},
   "outputs": [],
   "source": [
    "from PIL import Image\n",
    "Image.open(\"kickoff_pngs/wood_elf/1606445_4447434_kickoff_lower_defense.png\")"
   ]
  },
  {
   "cell_type": "code",
   "execution_count": null,
   "metadata": {},
   "outputs": [],
   "source": [
    "my_replay = fb.fetch_replay(match_id = 4447434)\n",
    "rosters = fb.extract_rosters_from_replay(my_replay)\n",
    "\n",
    "(rosters\n",
    " .query('race == \"Wood Elf\"')\n",
    " .filter(['short_name', 'positionName', 'playerName', 'skillArrayRoster', 'learned_skills', 'cost', 'recoveringInjury'])\n",
    ")"
   ]
  },
  {
   "cell_type": "markdown",
   "metadata": {},
   "source": [
    "# Application 3: Roster development in league play\n",
    "\n"
   ]
  },
  {
   "cell_type": "code",
   "execution_count": null,
   "metadata": {},
   "outputs": [],
   "source": [
    "import pandas as pd\n",
    "import fumbbl_replays as fb\n",
    "\n",
    "pd.set_option('display.max_colwidth', None)\n",
    "\n",
    "# We do gnomes\n",
    "matches = [4542630, 4543329, 4543359, 4544140, 4545345, 4545914, 4546710, 4546875, 4546908, 4548520, 4548537, 4548898, 4549961, 4549984, 4550284]\n",
    "team_id = '1177218'\n",
    "\n",
    "# top welf too\n",
    "#matches = [4543274, 4543281, 4543501, 4543513, 4543524, 4551199, 4551662, 4551696, 4551850, 4551912, 4551947, 4551983, 4552023, 4552066, 4552172]\n",
    "#team_id = '1176759'\n",
    "\n",
    "i = 0\n",
    "\n",
    "for match_id in matches:\n",
    "    my_replay = fb.fetch_replay(match_id)\n",
    "    df_positions = fb.extract_rosters_from_replay(my_replay) \n",
    "    df_positions = (df_positions\n",
    "                    .query(\"teamId == @team_id\")\n",
    "                    .filter(['short_name', 'positionName', 'playerName', 'skillArrayRoster', 'learned_skills', 'cost', 'recoveringInjury'])\n",
    "                    )\n",
    "    df_positions['match_count'] = i+1\n",
    "    if i == 0:\n",
    "        res = df_positions\n",
    "    else:\n",
    "        res = pd.concat([res, df_positions])\n",
    "    i = i + 1\n",
    "\n",
    "    \n",
    "\n"
   ]
  },
  {
   "cell_type": "code",
   "execution_count": null,
   "metadata": {},
   "outputs": [],
   "source": [
    "obj = res.query(\"match_count == 15 & recoveringInjury == 'None'\").agg({'cost' : sum})\n",
    "obj + 200000 + 110000 # cost plus 3x rerolls and apo plus skill value increases"
   ]
  },
  {
   "cell_type": "code",
   "execution_count": null,
   "metadata": {},
   "outputs": [],
   "source": [
    "obj = res.query(\"match_count == 15 & recoveringInjury == 'None'\")\n",
    "obj"
   ]
  },
  {
   "cell_type": "code",
   "execution_count": null,
   "metadata": {},
   "outputs": [],
   "source": [
    "player_names = res.query(\"match_count == 1\")['playerName'].values\n",
    "\n",
    "(res.query('playerName in @player_names')\n",
    " .pivot(index = ['playerName', 'positionName', 'cost'], columns = 'match_count', values = 'learned_skills')\n",
    " .sort_values(by=['cost'], ascending=False)\n",
    " .fillna(value = '-')\n",
    ")"
   ]
  },
  {
   "cell_type": "markdown",
   "metadata": {},
   "source": [
    "# Application 4: Plotting skills on board positions (digital loom bands)\n",
    "\n"
   ]
  },
  {
   "cell_type": "code",
   "execution_count": null,
   "metadata": {},
   "outputs": [],
   "source": [
    "%pip install -e . --quiet"
   ]
  },
  {
   "cell_type": "code",
   "execution_count": null,
   "metadata": {},
   "outputs": [],
   "source": [
    "import pandas as pd\n",
    "pd.set_option('display.max_colwidth', None)\n",
    "import fumbbl_replays as fb"
   ]
  },
  {
   "cell_type": "code",
   "execution_count": null,
   "metadata": {},
   "outputs": [],
   "source": [
    "match_id, replay_id, positions, receiving_team, metadata = fb.fetch_data(match_id = 4447439)\n",
    "\n",
    "(positions\n",
    " .query(\"home_away == 'teamHome'\")\n",
    " .filter(['short_name', 'positionName', 'skillArrayRoster', 'learned_skills', 'skill_colors', 'boardpos'])\n",
    ")\n"
   ]
  },
  {
   "cell_type": "code",
   "execution_count": null,
   "metadata": {},
   "outputs": [],
   "source": [
    "fb.get_position(positions, home_away = 'teamAway')\n",
    "\n",
    "fb.create_plot(positions, red_team = receiving_team, skill_bands = True)"
   ]
  },
  {
   "cell_type": "markdown",
   "metadata": {},
   "source": [
    "Suppose we want to add a skill."
   ]
  },
  {
   "cell_type": "code",
   "execution_count": null,
   "metadata": {},
   "outputs": [],
   "source": [
    "positions = fb.add_skill_to_player(positions, \"L6\", \"Block\")\n",
    "\n",
    "(positions\n",
    " .query(\"home_away == 'teamHome'\")\n",
    " .filter(['short_name', 'positionName', 'skillArrayRoster', 'learned_skills', 'skill_colors', 'boardpos'])\n",
    ")\n"
   ]
  }
 ],
 "metadata": {
  "kernelspec": {
   "display_name": "requests_env",
   "language": "python",
   "name": "python3"
  },
  "language_info": {
   "codemirror_mode": {
    "name": "ipython",
    "version": 3
   },
   "file_extension": ".py",
   "mimetype": "text/x-python",
   "name": "python",
   "nbconvert_exporter": "python",
   "pygments_lexer": "ipython3",
   "version": "3.6.9"
  }
 },
 "nbformat": 4,
 "nbformat_minor": 2
}

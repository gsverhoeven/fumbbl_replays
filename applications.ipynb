{
 "cells": [
  {
   "cell_type": "markdown",
   "metadata": {},
   "source": [
    "# Application 1: Visualizing a particular setup\n",
    "\n",
    "On FUMBBL there is a great guide on defensive setups. Suppose we wish to visualize the \"arrowhead\" setup, advised for Undead.\n",
    "\n",
    "_The arrowhead defense is a good defense for Undead, Necromantic, or Chaos Renegades, against a highly mobile opponent. It’s similar to a ziggurat or chevron defense, but the 3-column midfielders or safeties have been moved into the 0-column to prevent runs up the gut, and also to be able to redeploy from a central position, while the 2-column strong midfielders have been pushed out to the 3-column to form a spine screen. It’s strong in the wide zone and up the center, but the 3-column midfielders are seriously exposed, and unless they have both a lot of Strength and the Stand Firm skill, this position is highly vulnerable._\n",
    "\n",
    "The Arrowhead Defense\n",
    "\n",
    "```{text}\n",
    "7 6 5 4|3 2 1 0 1 2 3|4 5 6 7   column\n",
    "- - - -|- - x x x - -|- - - -   Line\n",
    "- - - -|- - - - - - -|- - - -   -1\n",
    "- - x -|x - - x - - x|- x - -   -2\n",
    "- x - -|- - - x - - -|- - x -   -3\n",
    "```"
   ]
  },
  {
   "cell_type": "code",
   "execution_count": null,
   "metadata": {},
   "outputs": [],
   "source": [
    "fb.show_boardpos(rotation = 'H')"
   ]
  },
  {
   "cell_type": "code",
   "execution_count": null,
   "metadata": {},
   "outputs": [],
   "source": [
    "roster = fb.fetch_roster(\"Shambling Undead\")\n",
    "roster"
   ]
  },
  {
   "cell_type": "code",
   "execution_count": null,
   "metadata": {},
   "outputs": [],
   "source": [
    "my_setup = ['setup', ['Z1: g14', 'Z2: h14', 'Z3: i14', \n",
    "                      'W1: e16', 'W2: k16', 'G1: h16', 'G2: h17', \n",
    "                      'M1: c16', 'M2: m16', 'Z4: b17', 'Z5: n17']]\n",
    "\n",
    "\n",
    "positions = fb.create_position(roster, my_setup)\n",
    "\n",
    "fb.create_plot(positions, receiving_team = \"teamAway\", orientation = 'V', crop = \"lower\")"
   ]
  },
  {
   "cell_type": "markdown",
   "metadata": {},
   "source": [
    "for whats the play we need to display prone and stunned as well. Should include this in the notation. Maybe x and /\n",
    "\n",
    "my_setup = ['setup', ['Z1: g14x', 'Z2: h14', 'Z3: i14', \n",
    "                      'W1: e16', 'W2: k16/', 'G1: h16/', 'G2: h17', \n",
    "                      'M1: c16', 'M2: m16', 'Z4: b17', 'Z5: n17']]"
   ]
  },
  {
   "cell_type": "code",
   "execution_count": null,
   "metadata": {},
   "outputs": [],
   "source": []
  },
  {
   "cell_type": "markdown",
   "metadata": {},
   "source": [
    "# Application 2: saving defensive setups as PNGs for use in playbooks\n",
    "\n",
    "We want to plot all defensive setups together with match outcome from the Tilean Team Cup.\n",
    "The Tilean Team Cup was an online NAF tournament held on FUMBBL from march 2023 to may 2023."
   ]
  },
  {
   "cell_type": "code",
   "execution_count": null,
   "metadata": {},
   "outputs": [],
   "source": [
    "# point this to the location of the HDF5 datasets\n",
    "path_to_datasets = '../fumbbl_datasets/datasets/current/'\n",
    "\n",
    "# FUMBBL matches\n",
    "target = 'df_matches.csv'\n",
    "df_matches = pd.read_csv(path_to_datasets + target) \n",
    "\n",
    "# # subset on tilean team cup\n",
    "df_matches = df_matches.query('tournament_id == 59383')\n",
    "\n",
    "\n",
    "tilean_replays = df_matches['match_id'].values\n",
    "\n",
    "tilean_replays = tilean_replays[0:3]\n",
    "tilean_replays"
   ]
  },
  {
   "cell_type": "code",
   "execution_count": null,
   "metadata": {},
   "outputs": [],
   "source": [
    "fullrun = 0\n",
    "\n",
    "if fullrun:\n",
    "    id = []\n",
    "    match_ids = []\n",
    "    race_defense = []\n",
    "    race_offense = []\n",
    "\n",
    "    for match_id in tilean_replays:\n",
    "        match_id, replay_id, positions, receiving_team, metadata = fb.fetch_data(match_id)  # gnome 4543329 #4528210 #4542768\n",
    "        plot = fb.write_plot(match_id, positions, receiving_team, metadata, refresh = True, verbose = True)\n",
    "        id.append(int(replay_id))\n",
    "        match_ids.append(int(match_id))\n",
    "        race_defense.append(metadata[2])\n",
    "        race_offense.append(metadata[3])\n",
    "\n",
    "    df_replays = pd.DataFrame( {\"matchId\": match_ids,\n",
    "                                \"replayId\": id,\n",
    "                                \"raceOffense\": race_offense,\n",
    "                                \"raceDefense\": race_defense})\n",
    "    target = 'kickoff_pngs/df_replays'\n",
    "    df_replays.to_csv(target + '.csv', index = False)\n",
    "else:\n",
    "    # FUMBBL matches\n",
    "    target = 'kickoff_pngs/df_replays.csv'\n",
    "    df_replays = pd.read_csv(target)  "
   ]
  },
  {
   "cell_type": "code",
   "execution_count": null,
   "metadata": {},
   "outputs": [],
   "source": [
    "df_replays"
   ]
  },
  {
   "cell_type": "code",
   "execution_count": null,
   "metadata": {},
   "outputs": [],
   "source": [
    "from PIL import Image\n",
    "Image.open(\"kickoff_pngs/wood_elf/1606445_4447434_kickoff_lower_defense.png\")"
   ]
  }
 ],
 "metadata": {
  "language_info": {
   "name": "python"
  }
 },
 "nbformat": 4,
 "nbformat_minor": 2
}

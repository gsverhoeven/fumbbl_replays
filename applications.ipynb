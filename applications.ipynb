{
 "cells": [
  {
   "cell_type": "markdown",
   "metadata": {},
   "source": [
    "This blog post describes three use cases of the `fumbbl_replays` package.\n",
    "For the first use case, the functionality of the package is sufficient, with no additional programming needed.\n",
    "For the other two use cases, additional programming is needed.\n",
    "In the future, this code could be turned into a function and added to the package.\n",
    "\n",
    "To install the `fumbbl_replays` python package, follow the instructions on Github."
   ]
  },
  {
   "cell_type": "markdown",
   "metadata": {},
   "source": [
    "# Application 1: What's the play\n",
    "\n"
   ]
  },
  {
   "cell_type": "code",
   "execution_count": null,
   "metadata": {},
   "outputs": [],
   "source": [
    "import sys\n",
    "from PIL import Image, ImageDraw\n",
    "\n",
    "with Image.open(\"doc/Whats the play 04 - Dwarf Vs Elven Union.png\") as im:\n",
    "   # Provide the target width and height of the image\n",
    "   (width, height) = (im.width // 2, im.height // 2)\n",
    "   im_resized = im.resize((width, height))\n",
    "   display(im_resized)"
   ]
  },
  {
   "cell_type": "markdown",
   "metadata": {},
   "source": [
    "Lets try to reproduce this plot with `fumbbl_replays`.\n",
    "We start with fetching a Dwarf Roster. \n",
    "Then create the positions including playerStates (i.e. the Stunned Troll Slayer). \n",
    "Then finally we add the skills."
   ]
  },
  {
   "cell_type": "code",
   "execution_count": null,
   "metadata": {},
   "outputs": [],
   "source": [
    "import fumbbl_replays as fb\n",
    "\n",
    "my_roster = fb.fetch_roster(\"Dwarf\")\n",
    "\n",
    "my_setup = ['setup', ['B3: d14', 'TS4: b15X', 'L10: l17', \n",
    "                      'L11: n17', 'L9: j19', 'L5: l20', 'L8: n20', \n",
    "                      'L6: j21', 'R1: m21o', 'L7: l22', 'B2: n22']]\n",
    "\n",
    "positions = fb.create_position(my_roster, my_setup)\n",
    "\n",
    "fb.add_skill_to_player(positions, \"R1\", \"On the Ball\")\n",
    "fb.add_skill_to_player(positions, \"B3\", \"Guard\")\n",
    "#fb.add_skill_to_player(positions, \"TS4\", \"Block\") # TS already comes with block\n",
    "fb.add_skill_to_player(positions, \"TS4\", \"Mighty Blow\")\n",
    "fb.add_skill_to_player(positions, \"L7\", \"Guard\")\n",
    "fb.add_skill_to_player(positions, \"L8\", \"Guard\")\n",
    "fb.add_skill_to_player(positions, \"L9\", \"Guard\")\n",
    "fb.add_skill_to_player(positions, \"L10\", \"Guard\")"
   ]
  },
  {
   "cell_type": "markdown",
   "metadata": {},
   "source": [
    "Repeat for Elven Union:"
   ]
  },
  {
   "cell_type": "code",
   "execution_count": null,
   "metadata": {},
   "outputs": [],
   "source": [
    "import pandas as pd\n",
    "\n",
    "my_roster = fb.fetch_roster(\"Elven Union\")\n",
    "\n",
    "my_setup = ['setup', ['T1: l25', 'C3: i24', 'B6: i23', \n",
    "                      'B7: g22', 'L10: i21', 'L11: h20', 'L12: c16', \n",
    "                      'L8: c15', 'C2: h11']]\n",
    "\n",
    "positions2 = fb.create_position(my_roster, my_setup, home_away = 'teamAway')\n",
    "\n",
    "fb.add_skill_to_player(positions2, \"T1\", \"Accurate\")\n",
    "fb.add_skill_to_player(positions2, \"T1\", \"Leader\")\n",
    "fb.add_skill_to_player(positions2, \"C3\", \"Dodge\")\n",
    "fb.add_skill_to_player(positions2, \"C3\", \"Block\")\n",
    "fb.add_skill_to_player(positions2, \"B6\", \"Dodge\")\n",
    "fb.add_skill_to_player(positions2, \"B6\", \"Strip Ball\")\n",
    "fb.add_skill_to_player(positions2, \"B7\", \"Mighty Blow\")\n",
    "fb.add_skill_to_player(positions2, \"L10\", \"Block\")\n",
    "\n",
    "positions = pd.concat([positions, positions2])"
   ]
  },
  {
   "cell_type": "code",
   "execution_count": null,
   "metadata": {},
   "outputs": [],
   "source": [
    "fb.create_plot(positions, red_team = \"teamAway\", orientation = 'H', skill_bands = True)"
   ]
  },
  {
   "cell_type": "markdown",
   "metadata": {},
   "source": [
    "We can reposition the Elven Union players to describe a possible solution to the what's the play puzzle.\n",
    "This facilitates discussions of alternative plays, and the risks and benefits associated with them."
   ]
  },
  {
   "cell_type": "code",
   "execution_count": null,
   "metadata": {},
   "outputs": [],
   "source": [
    "positions = fb.move_piece(positions, \"teamAway\", \"T1\", \"n25\")\n",
    "positions = fb.move_piece(positions, \"teamAway\", \"B6\", \"n24\")\n",
    "positions = fb.move_piece(positions, \"teamAway\", \"C3\", \"k25\")\n",
    "positions = fb.move_piece(positions, \"teamAway\", \"B7\", \"k24\")\n",
    "positions = fb.move_piece(positions, \"teamAway\", \"L10\", \"h24\")\n",
    "positions = fb.move_piece(positions, \"teamAway\", \"L11\", \"h25\")\n",
    "positions = fb.move_piece(positions, \"teamAway\", \"L12\", \"g22\")\n",
    "positions = fb.move_piece(positions, \"teamAway\", \"C2\", \"g19\")\n",
    "\n",
    "fb.create_plot(positions, red_team = \"teamAway\", orientation = 'H', skill_bands = True)"
   ]
  },
  {
   "cell_type": "markdown",
   "metadata": {},
   "source": [
    "The remaining lineman L8 could finally do a dodge and two rushes to end up in g23."
   ]
  },
  {
   "cell_type": "markdown",
   "metadata": {},
   "source": [
    "This also immediately gives rise to new feature requests: highlighting squares, drawing arrows, some form of pathfinding (e.g. find shortest path without dice rolling)."
   ]
  },
  {
   "cell_type": "markdown",
   "metadata": {},
   "source": [
    "# Application 2: Plotting defensive tournament setups\n",
    "\n",
    "Here the idea is to visualize defensive setups in a tournament setting.\n",
    "\n",
    "To test the idea, I chose the Tilean Team Cup. It was an online NAF tournament in 2023 on FUMBBL that used the World Cup ruleset.\n",
    "https://member.thenaf.net/index.php?module=NAF&type=tournaments&func=view&id=7495\n",
    "\n",
    "NAF tournament director Stimme wrote:\n",
    "\n",
    "https://www.thenaf.net/2023/05/tournament-director-blog-may-2023/\n",
    "\n",
    "*Among the individual coaches, Siggi stood out with his Amazons, earning the title of best coach with a flawless record of six wins. Kurjo’s Orcs secured second place, while helborg’s Dark Elves came in third, both with five wins and a draw.* \n"
   ]
  },
  {
   "cell_type": "code",
   "execution_count": null,
   "metadata": {},
   "outputs": [],
   "source": [
    "import pandas as pd\n",
    "import fumbbl_replays as fb\n",
    "\n",
    "# point this to the location of the CSV datasets\n",
    "path_to_datasets = '../fumbbl_scraping/datasets/current/'\n",
    "\n",
    "# FUMBBL matches\n",
    "target = 'df_matches.csv'\n",
    "df_matches = pd.read_csv(path_to_datasets + target) \n",
    "\n",
    "# # subset on tilean team cup\n",
    "df_matches = df_matches.query('tournament_id == 59383')\n",
    "\n",
    "sel1 = df_matches['coach1_ranking'] == 'siggi'\n",
    "sel2 = df_matches['coach2_ranking'] == 'siggi'\n",
    "\n",
    "df_matches = df_matches[(sel1 + sel2)]\n",
    "\n",
    "tilean_replays = df_matches['match_id'].values\n",
    "\n",
    "tilean_replays = tilean_replays[0:4]"
   ]
  },
  {
   "cell_type": "code",
   "execution_count": null,
   "metadata": {},
   "outputs": [],
   "source": [
    "tilean_replays"
   ]
  },
  {
   "cell_type": "code",
   "execution_count": null,
   "metadata": {},
   "outputs": [],
   "source": [
    "import os\n",
    "\n",
    "target_dir = 'kickoff_pngs'\n",
    "\n",
    "if not os.path.exists(target_dir):\n",
    "    os.makedirs(target_dir)\n",
    "\n",
    "fullrun = 1\n",
    "\n",
    "if fullrun:\n",
    "    id = []\n",
    "    match_ids = []\n",
    "    race_defense = []\n",
    "    race_offense = []\n",
    "\n",
    "    for match_id in tilean_replays:\n",
    "        match_id, replay_id, positions, receiving_team, metadata = fb.fetch_data(match_id) \n",
    "        plot = fb.write_plot(match_id, positions, receiving_team, metadata, refresh = True, verbose = False)\n",
    "        id.append(int(replay_id))\n",
    "        match_ids.append(int(match_id))\n",
    "        race_defense.append(metadata[4])\n",
    "        race_offense.append(metadata[5])\n",
    "\n",
    "    df_replays = pd.DataFrame( {\"matchId\": match_ids,\n",
    "                                \"replayId\": id,\n",
    "                                \"raceOffense\": race_offense,\n",
    "                                \"raceDefense\": race_defense})\n",
    "    target = 'kickoff_pngs/df_replays'\n",
    "    df_replays.to_csv(target + '.csv', index = False)\n",
    "else:\n",
    "    # FUMBBL matches\n",
    "    target = 'kickoff_pngs/df_replays.csv'\n",
    "    df_replays = pd.read_csv(target)  "
   ]
  },
  {
   "cell_type": "code",
   "execution_count": null,
   "metadata": {},
   "outputs": [],
   "source": [
    "from PIL import Image\n",
    "Image.open(\"kickoff_pngs/amazon/1616794_4456080_kickoff_lower_defense.png\")"
   ]
  },
  {
   "cell_type": "markdown",
   "metadata": {},
   "source": [
    "Apparently, coach siggi used an asymmetric setup against his Skaven opponent, with the weakest players on the line as cannon fodder, and positional players with good defensive skills such as block and wrestle further back. The dirty player lineman, Leader Thrower and Guard blocker are safe on row four.\n",
    "\n",
    "There is also a function that extracts the roster from a replay (N.b. rerolls, apo and inducements not yet implemented):"
   ]
  },
  {
   "cell_type": "code",
   "execution_count": null,
   "metadata": {},
   "outputs": [],
   "source": [
    "my_replay = fb.fetch_replay(match_id = 4447483)\n",
    "rosters = fb.extract_rosters_from_replay(my_replay)\n",
    "\n",
    "(rosters\n",
    " .query('race == \"Amazon\"')\n",
    " .filter(['short_name', 'positionName', 'playerName', 'skillArrayRoster', 'learned_skills', 'cost', 'recoveringInjury'])\n",
    ")"
   ]
  },
  {
   "cell_type": "markdown",
   "metadata": {},
   "source": [
    "# Application 3: Roster development in league play\n",
    "\n",
    "The last analysis focusses on team development in League play.\n",
    "I am currently in a league with Gnomes and was curious how to develop the team.\n",
    "I found a Gnome team with amazing league performance (\"We do gnomes\") by coach Elyod, one of the top ranking coaches on FUMBBL.\n",
    "The team has played in \"Black Box Trophy 11\" (BBT 11) and finished with a W/D/L of 10/2/3. \n",
    "What can we learn from how he developed his Gnomes?\n",
    "\n",
    "For this analysis, the starting point is the `team_id`. This is part of the url of the team on FUMBBL: https://fumbbl.com/p/team?id=1177218\n",
    "I wrote a function `fetch_team_matches()` to fetch all `match_id`'s for a given team id.\n",
    "By fetching the replays and extracting the Gnome team roster from each replay, we can track the development."
   ]
  },
  {
   "cell_type": "code",
   "execution_count": null,
   "metadata": {},
   "outputs": [],
   "source": [
    "import pandas as pd\n",
    "import fumbbl_replays as fb\n",
    "from plotnine import *\n",
    "\n",
    "pd.set_option('display.max_colwidth', None)\n",
    "\n",
    "\n",
    "## bbt 12 snots\n",
    "team_id = str(1211200)\n",
    "# bbt 13 amazons\n",
    "team_id = str(1211218)\n",
    "team_id = str(1212484)\n",
    "team_id = str(1217257)\n",
    "\n",
    "\n",
    "# bbt 11 gnomes\n",
    "team_id = str(1177218)\n",
    "\n",
    "team_matches = fb.fetch_team_matches(int(team_id))"
   ]
  },
  {
   "cell_type": "code",
   "execution_count": null,
   "metadata": {},
   "outputs": [],
   "source": [
    "matches = []\n",
    "for i in range(len(team_matches)):\n",
    "    matches.append(team_matches[i]['id'])\n",
    "\n",
    "matches.sort()"
   ]
  },
  {
   "cell_type": "code",
   "execution_count": null,
   "metadata": {},
   "outputs": [],
   "source": [
    "# fetch rosters from replays\n",
    "i = 0\n",
    "\n",
    "for match_id in matches[0:15]:\n",
    "    print(\".\", end = '')\n",
    "    my_replay = fb.fetch_replay(match_id)\n",
    "    df_positions = fb.extract_rosters_from_replay(my_replay) \n",
    "    df_positions = (df_positions\n",
    "                    .query(\"teamId == @team_id\")\n",
    "                    .filter(['short_name', 'rosterName' , 'positionName', 'playerName', 'skillArrayRoster', 'learned_skills', 'skill_colors', 'cost', 'recoveringInjury'])\n",
    "                    .reset_index()\n",
    "                    )\n",
    "    df_positions['match_count'] = i+1\n",
    "    if i == 0:\n",
    "        res = df_positions\n",
    "    else:\n",
    "        res = pd.concat([res, df_positions])\n",
    "    i = i + 1\n"
   ]
  },
  {
   "cell_type": "code",
   "execution_count": null,
   "metadata": {},
   "outputs": [],
   "source": [
    "cell_color = []\n",
    "learned_skill = []\n",
    "\n",
    "for i in range(len(res)):\n",
    "    n_skills = len(res.iloc[i]['learned_skills'])\n",
    "    if n_skills == 0:\n",
    "        cell_color.append(\"grey\")\n",
    "        learned_skill.append(\"-\")\n",
    "    elif n_skills == 1:\n",
    "        cell_color.append(res.iloc[i]['skill_colors'][n_skills - 1])\n",
    "        learned_skill.append(res.iloc[i]['learned_skills'][n_skills - 1])\n",
    "    else:\n",
    "        cell_color.append(\"black\")\n",
    "        learned_skill.append(\">1\")        \n",
    "\n",
    "res['cell_color'] = cell_color\n",
    "res['learned_skill'] = learned_skill\n",
    "res = res.drop(columns = ['short_name'])"
   ]
  },
  {
   "cell_type": "code",
   "execution_count": null,
   "metadata": {},
   "outputs": [],
   "source": [
    "res = res.query('learned_skill != \"Loner\" & recoveringInjury == \"None\" ')"
   ]
  },
  {
   "cell_type": "code",
   "execution_count": null,
   "metadata": {},
   "outputs": [],
   "source": [
    "rosterName = res['rosterName'].unique()[0]\n",
    "roster = fb.fetch_roster(rosterName).filter(['positionName', 'shorthand'])\n",
    "\n",
    "player_list = (res\n",
    "    .groupby(['playerName', 'positionName'], as_index = False)\n",
    "    .agg(count = ('index', 'count'), first_match = ('match_count', 'min'))\n",
    "    .merge(roster, on = 'positionName')\n",
    "    .sort_values(['positionName', 'first_match'])\n",
    ")\n",
    "\n",
    "player_list['positionNr'] = player_list.groupby(['positionName']).cumcount() + 1\n",
    "# create shorthand id\n",
    "player_list['short_name'] = player_list['shorthand'] + player_list['positionNr'].astype(str)"
   ]
  },
  {
   "cell_type": "code",
   "execution_count": null,
   "metadata": {},
   "outputs": [],
   "source": [
    "res = res.merge(player_list.filter(['playerName', 'shorthand', 'short_name', 'positionNr']), on = 'playerName')"
   ]
  },
  {
   "cell_type": "markdown",
   "metadata": {},
   "source": [
    "In the Black Box Trophy 11, teams start off with 1M gold, and play 15 matches against random opponents in the Blackbox division.\n",
    "It uses the rulebook team development rules (earning SPP, leveling up players etc).\n",
    "\n",
    "This is the roster that Elyod ended up with after 15 games.\n"
   ]
  },
  {
   "cell_type": "code",
   "execution_count": null,
   "metadata": {},
   "outputs": [],
   "source": [
    "(\n",
    "    ggplot(res, aes(x=\"factor(match_count)\", y=\"reorder(short_name, cost)\"))\n",
    "    + geom_tile(aes(fill = \"cell_color\", width=0.95, height=0.95))\n",
    "    + geom_text(aes(label=\"learned_skill\"), size=6)\n",
    "    + scale_fill_identity()\n",
    "    #+ coord_equal(expand=False)  # new\n",
    "    + theme(figure_size=(12, 6))  # new\n",
    "    + theme(legend_position='none')\n",
    "    + labs(x=\"League game number\", y=\"Players\", title= rosterName + \" team development BBT\")\n",
    ")"
   ]
  },
  {
   "cell_type": "code",
   "execution_count": null,
   "metadata": {},
   "outputs": [],
   "source": [
    "res.query('match_count == 15')"
   ]
  }
 ],
 "metadata": {
  "kernelspec": {
   "display_name": "fumbbl_replays_env",
   "language": "python",
   "name": "python3"
  },
  "language_info": {
   "codemirror_mode": {
    "name": "ipython",
    "version": 3
   },
   "file_extension": ".py",
   "mimetype": "text/x-python",
   "name": "python",
   "nbconvert_exporter": "python",
   "pygments_lexer": "ipython3",
   "version": "3.12.3"
  }
 },
 "nbformat": 4,
 "nbformat_minor": 2
}

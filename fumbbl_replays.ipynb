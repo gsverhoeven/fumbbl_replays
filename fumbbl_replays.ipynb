{
 "cells": [
  {
   "attachments": {},
   "cell_type": "markdown",
   "metadata": {},
   "source": [
    "# Developing a compact Blood Bowl game notation using FUMBBL replay data\n",
    "\n"
   ]
  },
  {
   "cell_type": "markdown",
   "metadata": {},
   "source": [
    "The development environment consists of VScode editor, with a Python virtual environment `requests_env` attached. Here the code is installed as Python package `fumbbl_replays` (from FUMBBL replays). Whenever the code is changed, the notebook is restarted and `pip install -e .` runs to install the updated package.\n",
    "I use a Jupyter notebook to import the package and run the `fumbbl2ffgn` function."
   ]
  },
  {
   "cell_type": "code",
   "execution_count": null,
   "metadata": {},
   "outputs": [],
   "source": [
    "%pip install -e ."
   ]
  },
  {
   "attachments": {},
   "cell_type": "markdown",
   "metadata": {},
   "source": [
    "# Load packages"
   ]
  },
  {
   "cell_type": "markdown",
   "metadata": {},
   "source": [
    "# Parse replay, write to Excel\n",
    "\n",
    "Using the API we fetch the replay file for this match:\n",
    "https://fumbbl.com/p/match?id=4407782\n",
    "\n",
    "Goal: taking a two step approach here, first generate a complete but not redundant game log with all the glorious details that a BB match can have, and when we have that, we can start, line by line, to map that on a compact annotation that would be feasible to write down with pen and paper during a table top game. \n",
    "\n",
    "main stuff:\n",
    "-make parser for blockroll during blitz, \n",
    "-pickupproll, leaproll, handover, apothecaryRoll, kick-off table\n",
    "-use Player State codes 3-7 for injuries\n",
    "\n",
    "small stuff:\n",
    "-add activeTeam column\n",
    "-leave out activate/deactivate (ie coach changed his mind)\n",
    "\n",
    "\n",
    "-cid 839/840: 2 times same block roll   -> first choice for reroll, then opponent chooses the result. \n",
    "-cid845 apo KO becomes stun (playerState 4)\n",
    "\n",
    "bugs:\n",
    "-KO/CAS should be ignored when converting to letter-number positions\n",
    "-KO now is position a32 cid917\n",
    "\n",
    "checked up until cid978, start turn 5.\n",
    "\n",
    "testing:\n",
    "-add test cases \n",
    "-Validate on new match https://fumbbl.com/FUMBBL.php?page=match&id=4444067)\n",
    "-set up venv with requirements.txt (use docker?)\n"
   ]
  },
  {
   "cell_type": "code",
   "execution_count": null,
   "metadata": {},
   "outputs": [],
   "source": [
    "import fumbbl_replays as fb\n",
    "import pandas as pd\n",
    "pd.set_option('display.max_rows', 500)\n",
    "pd.set_option('display.max_columns', 500)\n",
    "pd.options.mode.chained_assignment = None\n",
    "\n",
    "#dff = fb.fumbbl2ffgn(replay_id = 1559380)\n",
    "dff = fb.fumbbl2ffgn(replay_id = 1712868)\n"
   ]
  },
  {
   "attachments": {},
   "cell_type": "markdown",
   "metadata": {},
   "source": [
    "# References\n",
    "\n",
    "* Planning in the midst of chaos: how a stochastic Blood Bowl model can help to identify key planning features\n",
    "\n",
    "* STARDATA: A StarCraft AI Research Dataset"
   ]
  }
 ],
 "metadata": {
  "kernelspec": {
   "display_name": "requests_env",
   "language": "python",
   "name": "python3"
  },
  "language_info": {
   "codemirror_mode": {
    "name": "ipython",
    "version": 3
   },
   "file_extension": ".py",
   "mimetype": "text/x-python",
   "name": "python",
   "nbconvert_exporter": "python",
   "pygments_lexer": "ipython3",
   "version": "3.6.9"
  },
  "orig_nbformat": 4
 },
 "nbformat": 4,
 "nbformat_minor": 2
}

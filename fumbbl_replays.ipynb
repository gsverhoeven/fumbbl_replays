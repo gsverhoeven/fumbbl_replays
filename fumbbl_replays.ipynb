{
 "cells": [
  {
   "attachments": {},
   "cell_type": "markdown",
   "metadata": {},
   "source": [
    "# Analyzing Blood Bowl kick-off formations using FUMBBL replay data\n",
    "\n",
    "the botbowl ppl are discussing writing a parser for the json that would result in log with chess like notation ie P1 - B - E4 to C5 - (player one chooses blitz, moves from position e4 to c5 etc.\n",
    "Currently my knowledge is too limited to contribute to such an endeavour.\n",
    "\n",
    "I have however cooked up a new FUMBBL data analysis project using replays. \n",
    "To learn how to work with the replay files, I want to try and extract the set-up formations for a high stakes tournament (Road to Malta, or the Tilean Team Cup).  \n",
    "With the data I like to develop a nice viz, working with board positions together with the roster. \n",
    "When that goes somewhere I will scale it up to order 100, and try to make plots that either stack / aggregate formations, or do a cluster analysis on the start up formations, and see what can be learned from all of this 🙂 "
   ]
  },
  {
   "attachments": {},
   "cell_type": "markdown",
   "metadata": {},
   "source": [
    "# Related games: Chess and Starcraft\n",
    "\n",
    "For Chess, ppl make heatmaps for all pieces and for pieces separately, and locations where pieces are removed from play.\n",
    "For Blood Bowl, we can think of trajectories where the ball goes. Or where CAS occur.\n",
    "\n",
    "For Starcraft ,replays were very important to train the AI.\n",
    "\n",
    "```\n",
    "Although learning in StarCraft can be performed through playing, the dynamics of the game are extremely complex,and it is beneficial to speed up learning by using existinggames. The availability of datasets of recorded games be-tween experienced players is therefore desirable\n",
    "``` (From Lin et al 2017)\n",
    "\n",
    "Another quote:\n",
    "\n",
    "```\n",
    "Hence,  the  utility  of  a  replay  dataset  can  be  increased  byextracting game states, validating them and storing them asa separate dataset.\n",
    "```\n",
    "\n",
    "In  what  follows  we  refer  to  the  StarCraft  recorded  gamesas the original replays, and the TorchCraft recorded gamestates asextracted replays.\n",
    "\n",
    "Interestingly:\n",
    "\n",
    "```\n",
    "Opening clustering\n",
    "As an example of what exploratory data analysis can yield,inspired from (Synnaeve and Bessiere 2011b), we performed clustering to in search for canonical opening strategies.\n",
    "```"
   ]
  },
  {
   "attachments": {},
   "cell_type": "markdown",
   "metadata": {},
   "source": [
    "# Replay files: What has already been done\n",
    "\n",
    "Christian Huber (aka Candlejack) seems our man here. He has two repo's open that are of great interest.\n",
    "\n",
    "First is https://github.com/SanityResort/htmlreplay\n",
    "\n",
    "This connect to the FFB server and requests a replay file that it reads in and converts to JSON.\n",
    "The goal seems to be to be able to visualize a replay in the browser via HTML.\n",
    "\n",
    "Then there is https://github.com/SanityResort/FFBStats\n",
    "This is code that processes replay files and extracts information from them. Exactly what we want as well!\n",
    "It was written in 2016 and integrated into the site in 2017 by Christer. Then went away and came back in 2022.\n",
    "It produces a match statistics file as JSON, that forms the basis of a nice visualization on the match result page on FUMBBL.\n",
    "The match statistics are available through the API.\n",
    "\n",
    "https://fumbbl.com/p/match?op=stats&id=3916966"
   ]
  },
  {
   "attachments": {},
   "cell_type": "markdown",
   "metadata": {},
   "source": [
    "# FUMBBL Replay datafiles: opening up the black box\n",
    "\n",
    "Replay data is quite verbose and there’s lots of it. The FFB client communicates with the Server using Java Web Sockets.\n",
    "The raw data packages send over the line are web sockets. \n",
    "A replay file would be the json command stream. It’s a complex format, as it’s more or less just logging the data packets between the client and server. \n",
    "\n",
    "For example, after unzipping, opening as JSON in VScode and doing autoformatting, we end up with a 266K lines of client server \"command\" stream.\n",
    "Each turn is about 10K lines, with roster info at the end.\n",
    "\n",
    "The high level file format is as follows:\n",
    "\n",
    "```\n",
    "{\n",
    "    \"gameStatus\": \"uploaded\",\n",
    "    \"stepStack\": {\n",
    "        \"steps\": []\n",
    "    },\n",
    "    \"gameLog\": {}, # contains the command stream\n",
    "    \"game\": {}, # contains the full roster and position information\n",
    "    \"playerIds\": [],\n",
    "    \"swarmingPlayerActual\": 0,\n",
    "    \"passState\": {},\n",
    "    \"prayerState\": {},\n",
    "    \"activeEffects\": {}\n",
    "}\n",
    "```\n",
    "\n",
    "I noticed that the replays are really nicely self contained, they contain full copies of the rosters and (if i remember correctly) even ruleset.\n",
    "Everything in the ruleset that has a bearing on the client\n",
    "Basically the \"client options\" tab of the ruleset\n",
    "\n",
    "A full history of all the events during the game is stored under `gameLog`.\n",
    "\n",
    "The various phases of the match are clearly distinguished in the command streams.\n",
    "`turnDataSetTurnNr` , `turnDataSetFirstTurnAfterKickoff`, `gameSetTurnMode`, etc.\n"
   ]
  },
  {
   "attachments": {},
   "cell_type": "markdown",
   "metadata": {},
   "source": [
    "## netCommands that communicate changes\n",
    "\n",
    "The basic unit is the command, that is indexed by `commandNr`. \n",
    "A match consists of several thousand commands.\n",
    "A typical command has the following **FIXED** structure:\n",
    "\n",
    "```\n",
    "{\n",
    "    \"netCommandId\": \"serverModelSync\",\n",
    "    \"commandNr\": 243,\n",
    "    \"modelChangeList\": {\n",
    "        \"modelChangeArray\": []\n",
    "    },\n",
    "    \"reportList\": {\n",
    "        \"reports\": []\n",
    "    },\n",
    "    \"sound\": null,\n",
    "    \"gameTime\": 805789,\n",
    "    \"turnTime\": 179506\n",
    "}\n",
    "```\n",
    "\n",
    "`modelChange` changes the game state.\n",
    "`reportList` directs output to the client's reporting panel."
   ]
  },
  {
   "attachments": {},
   "cell_type": "markdown",
   "metadata": {},
   "source": [
    "\n",
    "\n",
    "## The Field model including the coordinate system\n",
    "\n",
    "FFB uses a field model that is very straightforward. The 15 x 26 game board is indexed using (X,Y) coordinates, with the top left square being (0,0). \n",
    "and the lower right square being (25, 14). \n",
    "\n",
    "Players can be either:\n",
    "* On the pitch\n",
    "* In the reserve box\n",
    "* IN the KO box\n",
    "* In the Badly hurt box\n",
    "* In the Seriously injured box\n",
    "* In the RIP box\n",
    "* In the Ban box\n",
    "* In The miss next game box\n",
    "\n",
    "On the pitch the X,Y coordinates are used, the other locations are indexed using 0,1,2 etc. \n",
    "\n",
    "```\n",
    "export default class Coordinate {\n",
    "    x: number;\n",
    "    y: number;\n",
    "\n",
    "    public static FIELD_WIDTH = 26;\n",
    "    public static FIELD_HEIGHT = 15;\n",
    "    public static RSV_HOME_X = -1;\n",
    "    public static KO_HOME_X = -2;\n",
    "    public static BH_HOME_X = -3;\n",
    "    public static SI_HOME_X = -4;\n",
    "    public static RIP_HOME_X = -5;\n",
    "    public static BAN_HOME_X = -6;\n",
    "    public static MNG_HOME_X = -7;\n",
    "    public static RSV_AWAY_X = 30;\n",
    "    public static KO_AWAY_X = 31;\n",
    "    public static BH_AWAY_X = 32;\n",
    "    public static SI_AWAY_X = 33;\n",
    "    public static RIP_AWAY_X = 34;\n",
    "    public static BAN_AWAY_X = 35;\n",
    "    public static MNG_AWAY_X = 36;\n",
    "    \n",
    "}\n",
    "```\n",
    "\n",
    "FFB uses `fieldModelSetPlayerCoordinate` to position players on the field or on the dug out. Players are identified using the FUMBBL player ids. At the end of the replay, all the player information is stored, including extra skills above those that come with the positional, as well as the full rosters (including all possible star players).\n"
   ]
  },
  {
   "attachments": {},
   "cell_type": "markdown",
   "metadata": {},
   "source": [
    "## The list of Player states\n",
    "\n",
    "In the future we might also need PlayerState.\n",
    "\n",
    "```\n",
    "export default class PlayerState {\n",
    "    public static UNKNOWN = 0;\n",
    "    public static STANDING = 1;\n",
    "    public static MOVING = 2;\n",
    "    public static PRONE = 3;\n",
    "    public static STUNNED = 4;\n",
    "    public static KNOCKED_OUT = 5;\n",
    "    public static BADLY_HURT = 6;\n",
    "    public static SERIOUS_INJURY = 7;\n",
    "    public static RIP = 8;\n",
    "    public static RESERVE = 9;\n",
    "    public static MISSING = 10;\n",
    "    public static FALLING = 11;\n",
    "    public static BLOCKED = 12;\n",
    "    public static BANNED = 13;\n",
    "    public static EXHAUSTED = 14;\n",
    "    public static BEING_DRAGGED = 15;\n",
    "    public static PICKED_UP = 16;\n",
    "    public static HIT_BY_FIREBALL = 17;\n",
    "    public static HIT_BY_LIGHTNING = 18;\n",
    "    public static HIT_BY_BOMB = 19;\n",
    "    public static BIT_ACTIVE = 256;\n",
    "    public static BIT_CONFUSED = 512;\n",
    "    public static BIT_ROOTED = 1024;\n",
    "    public static BIT_HYPNOTIZED = 2048;\n",
    "    public static BIT_BLOODLUST = 4096;\n",
    "    public static BIT_USED_PRO = 8192\n",
    "}\n",
    "```"
   ]
  },
  {
   "attachments": {},
   "cell_type": "markdown",
   "metadata": {},
   "source": [
    "# A flat table format extracted from replays\n",
    "\n",
    "This could be the basis of our flat file format.\n",
    "We write a for loop that cycles through the commands, and fills out a pandas dataframe.\n",
    "We use what we learned with the API data.\n",
    "\n",
    "Columns in our initial data format:\n",
    "\n",
    "* commandNr\n",
    "* modelChangeId\n",
    "* modelChangeKey\n",
    "* playerId\n",
    "* playerState\n",
    "* playerXcoordinate\n",
    "* playerYcoordinate\n",
    "* gameTime\n",
    "* turnTime\n",
    "\n",
    "if `modelChangeId` equals `fieldModelSetPlayerState` we record the `modelChangeValue` under `playerState`, and if it equals `fieldModelSetPlayerCoordinate` we record the `modelChangeValue` vector under `playerXcoordinate` and `playerYcoordinate`. In both cases the `PlayerId` can be found under `modelChangeKey`.\n"
   ]
  },
  {
   "attachments": {},
   "cell_type": "markdown",
   "metadata": {},
   "source": [
    "# Load packages"
   ]
  },
  {
   "cell_type": "code",
   "execution_count": null,
   "metadata": {},
   "outputs": [],
   "source": [
    "import random\n",
    "import time\n",
    "import os\n",
    "\n",
    "from isoweek import Week\n",
    "\n",
    "import requests # API library\n",
    "\n",
    "import numpy as np\n",
    "import pandas as pd\n",
    "\n",
    "import gzip\n",
    "import json\n",
    "\n",
    "from urllib.request import urlopen\n",
    "from PIL import Image\n",
    "\n",
    "import sys\n",
    "\n",
    "pd.set_option('display.max_rows', 500)\n",
    "pd.set_option('display.max_columns', 500)\n",
    "\n",
    "\n"
   ]
  },
  {
   "attachments": {},
   "cell_type": "markdown",
   "metadata": {},
   "source": [
    "The -i option is important, this runs the code in the namespace of the Jupyter notebook."
   ]
  },
  {
   "cell_type": "code",
   "execution_count": null,
   "metadata": {},
   "outputs": [],
   "source": [
    "# source the Python functions\n",
    "%run -i kickoff_formations.py"
   ]
  },
  {
   "attachments": {},
   "cell_type": "markdown",
   "metadata": {},
   "source": [
    "We want to fetch all replays from the Tilean Team Cup, an online NAF tournament held on FUMBBL from march 2023 to may 2023.\n",
    "Reading in the full HDF5 file is a memory hog, takes 2GB of memory."
   ]
  },
  {
   "cell_type": "code",
   "execution_count": null,
   "metadata": {},
   "outputs": [],
   "source": [
    "# point this to the location of the HDF5 datasets\n",
    "path_to_datasets = '../fumbbl_datasets/datasets/current/'\n",
    "\n",
    "# FUMBBL matches\n",
    "target = 'df_matches.csv'\n",
    "df_matches = pd.read_csv(path_to_datasets + target) \n",
    "\n",
    "# subset on tilean team cup\n",
    "df_matches = df_matches.query('tournament_id == 59383')\n",
    "\n",
    "tilean_replays = df_matches['replay_id'].values"
   ]
  },
  {
   "cell_type": "code",
   "execution_count": null,
   "metadata": {},
   "outputs": [],
   "source": [
    "# FUMBBL matches by team\n",
    "target = 'df_mbt.csv'\n",
    "df_mbt = pd.read_csv(path_to_datasets + target) \n",
    "\n",
    "# subset on tilean team cup\n",
    "df_mbt = df_mbt.query('tournament_id == 59383')"
   ]
  },
  {
   "attachments": {},
   "cell_type": "markdown",
   "metadata": {},
   "source": [
    "# fetch the replay files"
   ]
  },
  {
   "cell_type": "code",
   "execution_count": null,
   "metadata": {},
   "outputs": [],
   "source": [
    "fullrun = 0\n",
    "\n",
    "if fullrun:\n",
    "    for replay_id in tilean_replays:\n",
    "        my_replay = fetch_replay(replay_id)\n"
   ]
  },
  {
   "attachments": {},
   "cell_type": "markdown",
   "metadata": {},
   "source": [
    "The FUMBBL server, for the replay file API endpoint, uses 'Transfer-Encoding': 'chunked' to \"stream\" the gzipped content to the client.\n",
    "\n",
    "From the requests documentation:\n",
    "```\n",
    "For chunked encoded responses, it’s best to iterate over the data using Response.iter_content(). In an ideal situation you’ll have set stream=True on the request, in which case you can iterate chunk-by-chunk by calling iter_content with a chunk_size parameter of None. If you want to set a maximum size of the chunk, you can set a chunk_size parameter to any integer.\n",
    "```"
   ]
  },
  {
   "cell_type": "markdown",
   "metadata": {},
   "source": [
    "# Parse replay, write to Excel\n",
    "\n",
    "check messages without modelChange, ie. inducements bought\n",
    "fieldModelSetBallMoving catch roll is not included\n",
    "drop fieldModelSetPlayerState if it is not preceded by oldState (message 79)\n",
    "move ignore list to separate file\n",
    "add rosters and game metadata at the top"
   ]
  },
  {
   "cell_type": "code",
   "execution_count": null,
   "metadata": {},
   "outputs": [],
   "source": [
    "format(256, \"9b\")\n",
    "# 2 is base2\n",
    "msg = 769\n",
    "extractor = int(\"11111111\", 2) # mask, expect \n",
    "extractor = 256\n",
    "msg & extractor\n",
    "\n",
    "# so first 8 bits (0-255) are reserved to encode mutually exclusive stuff, and then we have the BIT section\n",
    "# so we convert to bits, then use the first 8 bits for the unique state, and then decorate the player using bits 9 to 14\n",
    "if 769 & 256:\n",
    "    print(\"player is active\")\n",
    "if 769 & 512:\n",
    "    print(\"player is bone head\")\n",
    "if 769 & 1024:\n",
    "    print(\"player is rooted\")\n",
    "# extractor trick for state column: gives 2 = MOVING\n",
    "16641 & 255"
   ]
  },
  {
   "cell_type": "code",
   "execution_count": null,
   "metadata": {},
   "outputs": [],
   "source": [
    "# source the Python functions\n",
    "%run -i kickoff_formations.py\n",
    "\n",
    "my_replay = fetch_replay(1559380)\n",
    "dff = parse_replay_file(my_replay, to_excel = True)"
   ]
  },
  {
   "cell_type": "code",
   "execution_count": null,
   "metadata": {},
   "outputs": [],
   "source": [
    "my_replay['game']"
   ]
  },
  {
   "attachments": {},
   "cell_type": "markdown",
   "metadata": {},
   "source": [
    "# Approach\n",
    "\n",
    "Using the API I have downloaded a gzipped replay file.\n",
    "For this match:\n",
    "https://fumbbl.com/FUMBBL.php?page=match&id=4444067\n",
    "\n",
    "To goal is to programmatically extract the setup formations.\n",
    "We develop all steps in separate code chunks, then piece them together in a Python program we can call from Jupyter.\n"
   ]
  },
  {
   "attachments": {},
   "cell_type": "markdown",
   "metadata": {},
   "source": [
    "# Visualization\n",
    "\n",
    "We mimic FFB by plotting FFB icons over the pitch.\n",
    "In python there is Pillow, the Python image library.\n",
    "This allows manipulating images.\n",
    "\n",
    "Lets move on to plotting the board state.\n",
    "\n",
    "We have an empty image of the board as jpg.\n",
    "We want to plot player icons on it.\n",
    "\n",
    "First we plot the empty board.\n",
    "Then we plot a 13 x 26 roster over it.\n"
   ]
  },
  {
   "cell_type": "code",
   "execution_count": null,
   "metadata": {},
   "outputs": [],
   "source": [
    "from PIL import Image, ImageDraw, ImageFont\n",
    "with Image.open(\"resources/nice.jpg\") as pitch:\n",
    "    display(pitch)\n"
   ]
  },
  {
   "attachments": {},
   "cell_type": "markdown",
   "metadata": {},
   "source": [
    "## write text on pitch"
   ]
  },
  {
   "cell_type": "code",
   "execution_count": null,
   "metadata": {},
   "outputs": [],
   "source": [
    "with Image.open(\"resources/nice.jpg\") as pitch:\n",
    "\n",
    "    draw = ImageDraw.Draw(pitch) \n",
    "\n",
    "    text1 = \"Orc\"\n",
    "    text2 = 'Human'\n",
    "\n",
    "    font1 = ImageFont.truetype('LiberationSerif-Bold.ttf', 28)\n",
    "    font2 = ImageFont.truetype('LiberationSans-Regular.ttf', 28)\n",
    "\n",
    "    draw.text((140, 100), text1, font=font1, fill='black')\n",
    "    draw.text((540, 120), text2, font=font2, fill='black')\n",
    "\n",
    "    display(pitch)"
   ]
  },
  {
   "attachments": {},
   "cell_type": "markdown",
   "metadata": {},
   "source": [
    "Lets find the Player Icons we need.\n",
    "We look in the rosters.\n",
    "\n",
    "First we construct a dataFrame with the players of both teams, then we look up the PNG urls from the roster."
   ]
  },
  {
   "cell_type": "code",
   "execution_count": null,
   "metadata": {},
   "outputs": [],
   "source": [
    "df_players = extract_players_from_replay(my_replay)\n",
    "\n",
    "df_players"
   ]
  },
  {
   "cell_type": "code",
   "execution_count": null,
   "metadata": {},
   "outputs": [],
   "source": [
    "df_players = extract_players_from_replay(my_replay)\n",
    "df_positions = extract_rosters_from_replay(my_replay)\n",
    "\n",
    "df_players2 = pd.merge(df_players, df_positions, on=\"positionId\", how=\"left\")\n",
    "\n",
    "df_players2"
   ]
  },
  {
   "attachments": {},
   "cell_type": "markdown",
   "metadata": {},
   "source": [
    "# Working with FUMBBL icons\n",
    "\n",
    "Plot icon on the pitch. First grab icon. Then grab pitch. Plot icon on pitch."
   ]
  },
  {
   "cell_type": "code",
   "execution_count": null,
   "metadata": {},
   "outputs": [],
   "source": [
    "url = 'https://fumbbl.com/i/645274.png'\n",
    "icon = Image.open(urlopen(url)).convert(\"RGBA\")\n",
    "icon_w, icon_h = icon.size\n",
    "# select first icon\n",
    "icon = icon.crop((0,0,icon_w/4,icon_w/4))\n",
    "icon = icon.resize((28, 28))\n",
    "icon\n"
   ]
  },
  {
   "attachments": {},
   "cell_type": "markdown",
   "metadata": {},
   "source": [
    "Lets see if we can draw multiple icons on the pitch."
   ]
  },
  {
   "cell_type": "code",
   "execution_count": null,
   "metadata": {},
   "outputs": [],
   "source": [
    "pitch = Image.open(\"resources/nice.jpg\")\n",
    "pitch = pitch.rotate(angle = 90, expand = True)\n",
    "pitch = pitch.resize((15 * 28, 26 * 28))\n",
    "pitch_w, pitch_h = pitch.size\n",
    "icon_w, icon_h = icon.size\n",
    "\n",
    "for i in range(15):\n",
    "    pitch.paste(icon, (icon_w * i,icon_h * i), icon)\n",
    "\n",
    "pitch"
   ]
  },
  {
   "attachments": {},
   "cell_type": "markdown",
   "metadata": {},
   "source": [
    "# Get player positions after kick off\n",
    "\n",
    "Should check for quick snap etc.\n",
    "So all position setting up to 'gameSetLastTurnMode' is set to 'setup' and play moves to kick-off phase."
   ]
  },
  {
   "cell_type": "code",
   "execution_count": null,
   "metadata": {},
   "outputs": [],
   "source": [
    "df = parse_replay_file(my_replay)\n",
    "\n",
    "positions = df.query('turnNr == 0 & turnMode == \"setup\" & Half == 1 & \\\n",
    "                     modelChangeId == \"fieldModelSetPlayerCoordinate\"').groupby('modelChangeKey').tail(1)\n",
    "positions"
   ]
  },
  {
   "cell_type": "code",
   "execution_count": null,
   "metadata": {},
   "outputs": [],
   "source": [
    "\n",
    "positions = pd.merge(positions, df_players2, left_on='modelChangeKey', right_on='playerId', how=\"left\")\n",
    "len(positions.query('PlayerCoordinateX != [-1, 30]'))\n",
    "\n",
    "# select only players on the board at kick-off, i.e. not in reserve\n",
    "positions = positions.query('PlayerCoordinateX != [-1, 30]').copy()\n",
    "positions"
   ]
  },
  {
   "attachments": {},
   "cell_type": "markdown",
   "metadata": {},
   "source": [
    "## Transform player positions: rotation and mirroring\n",
    "\n",
    "After rotating the pitch 90 degrees, A player at (0,0) will be positioned at (14,0), and a player at (25, 14) is now positioned at (0, 25).\n",
    "So transformation formula is (a,b) becomes (14 - b, a)."
   ]
  },
  {
   "cell_type": "code",
   "execution_count": null,
   "metadata": {},
   "outputs": [],
   "source": [
    "positions['PlayerCoordinateXrot'] = 14 - positions['PlayerCoordinateY']\n",
    "positions['PlayerCoordinateYrot'] = positions['PlayerCoordinateX']\n"
   ]
  },
  {
   "attachments": {},
   "cell_type": "markdown",
   "metadata": {},
   "source": [
    "No we try to mirror the board setup (swap sides). This requires that we shift the y coordinate to the center (+13), then do minus (mirror y position wrt the horizontal middle line) and then shift back."
   ]
  },
  {
   "cell_type": "code",
   "execution_count": null,
   "metadata": {},
   "outputs": [],
   "source": [
    "positions['PlayerCoordinateXrot2'] = positions['PlayerCoordinateXrot']\n",
    "positions['PlayerCoordinateYrot2'] = 25 - positions['PlayerCoordinateYrot']"
   ]
  },
  {
   "attachments": {},
   "cell_type": "markdown",
   "metadata": {},
   "source": [
    "Display all the icon images. Check that they all have 4 columns.\n",
    "We need the first and third column.\n",
    "We use the red icons to display offense setups, and blue icons to display defense setups.\n",
    "\n",
    "Figure out who chooses to receive.\n",
    "The team that receives is the offensive team, the kicking team set up first and has the defensive.\n",
    "\n",
    "Looks like the default is `gameSetHomeFirstOffense` set at 0 (i.e. Away has first offense), and only if `gameSetHomeFirstOffense` is set to 1 the home team receives. We use a clunky way to check whether the  `gameSetHomeFirstOffense` command is present during the startGame sequence."
   ]
  },
  {
   "cell_type": "code",
   "execution_count": null,
   "metadata": {},
   "outputs": [],
   "source": [
    "receiving_team = determine_receiving_team_at_start(df)\n",
    "receiving_team"
   ]
  },
  {
   "cell_type": "code",
   "execution_count": null,
   "metadata": {},
   "outputs": [],
   "source": [
    "display_all_iconsets = 0\n",
    "\n",
    "if display_all_iconsets:\n",
    "    for i in range(len(positions)):\n",
    "        icon_path = positions.iloc[i]['icon_path']\n",
    "        icon = Image.open(urlopen(icon_path))\n",
    "        display(icon)\n",
    "        #print(icon.size)"
   ]
  },
  {
   "attachments": {},
   "cell_type": "markdown",
   "metadata": {},
   "source": [
    "# Main task: plot all replays\n",
    "\n",
    "takes 67 min."
   ]
  },
  {
   "cell_type": "code",
   "execution_count": null,
   "metadata": {},
   "outputs": [],
   "source": [
    "%run -i kickoff_formations.py\n",
    "\n",
    "fullrun = 1\n",
    "\n",
    "if fullrun:\n",
    "    id = []\n",
    "    match_ids = []\n",
    "    team_ids_defense = []\n",
    "    race_defense = []\n",
    "    race_offense = []\n",
    "    team_ids_offense = []\n",
    "\n",
    "    for replay_id in tilean_replays:\n",
    "        replay_id, match_id, team_id_defensive, race_defensive, \\\n",
    "            team_id_offensive, race_offensive = process_replay(replay_id, df_matches, refresh = True)\n",
    "        id.append(int(replay_id))\n",
    "        match_ids.append(int(match_id))\n",
    "        team_ids_defense.append(int(team_id_defensive))\n",
    "        team_ids_offense.append(int(team_id_offensive))\n",
    "        race_defense.append(race_defensive)\n",
    "        race_offense.append(race_offensive)\n",
    "\n",
    "    df_replays = pd.DataFrame( {\"matchId\": match_ids,\n",
    "                                \"replayId\": id,\n",
    "                                \"teamIdOffense\": team_ids_offense,\n",
    "                                \"raceOffense\": race_offense,\n",
    "                                \"teamIdDefense\": team_ids_defense,\n",
    "                                \"raceDefense\": race_defense})\n",
    "    # target = 'kickoff_pngs/df_replays'\n",
    "\n",
    "    # df_replays.to_hdf(target + '.h5', key='df_replays', mode='w', format = 't',  complevel = 9)\n",
    "    # df_replays.to_csv(target + '.csv')\n",
    "else:\n",
    "    # FUMBBL matches\n",
    "    target = 'kickoff_pngs/df_replays.h5'\n",
    "    df_replays = pd.read_hdf(target)  "
   ]
  },
  {
   "cell_type": "code",
   "execution_count": null,
   "metadata": {},
   "outputs": [],
   "source": [
    "df_replays.query(\"matchId == 4449675\")"
   ]
  },
  {
   "attachments": {},
   "cell_type": "markdown",
   "metadata": {},
   "source": [
    "# Selecting skilled coaches\n",
    "\n",
    "https://fumbbl.com/note/christer/CR\n",
    "https://github.com/hardingnj/NAF\n"
   ]
  },
  {
   "attachments": {},
   "cell_type": "markdown",
   "metadata": {},
   "source": [
    "# References\n",
    "\n",
    "* Planning in the midst of chaos: how a stochastic Blood Bowl model can help to identify key planning features\n",
    "\n",
    "* STARDATA: A StarCraft AI Research Dataset"
   ]
  },
  {
   "attachments": {},
   "cell_type": "markdown",
   "metadata": {},
   "source": [
    "check whether offensive team has frenzy\n",
    "skill colors (square color borders with skill rings)\n",
    "add coach rating\n",
    "fix player plot order for human match"
   ]
  }
 ],
 "metadata": {
  "kernelspec": {
   "display_name": "requests_env",
   "language": "python",
   "name": "python3"
  },
  "language_info": {
   "codemirror_mode": {
    "name": "ipython",
    "version": 3
   },
   "file_extension": ".py",
   "mimetype": "text/x-python",
   "name": "python",
   "nbconvert_exporter": "python",
   "pygments_lexer": "ipython3",
   "version": "3.6.9"
  },
  "orig_nbformat": 4
 },
 "nbformat": 4,
 "nbformat_minor": 2
}

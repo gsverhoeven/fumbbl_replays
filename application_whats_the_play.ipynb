{
 "cells": [
  {
   "cell_type": "markdown",
   "metadata": {},
   "source": [
    "This blog post demonstrates a use case of the `fumbbl_replays` package.\n",
    "For this use case, the functionality of the package is sufficient, with no additional programming needed.\n",
    "\n",
    "To install the `fumbbl_replays` python package, follow the instructions on Github."
   ]
  },
  {
   "cell_type": "markdown",
   "metadata": {},
   "source": [
    "# Application: What's the play\n",
    "\n"
   ]
  },
  {
   "cell_type": "code",
   "execution_count": null,
   "metadata": {},
   "outputs": [],
   "source": [
    "import sys\n",
    "from PIL import Image, ImageDraw\n",
    "\n",
    "with Image.open(\"doc/Whats the play 04 - Dwarf Vs Elven Union.png\") as im:\n",
    "   # Provide the target width and height of the image\n",
    "   (width, height) = (im.width // 2, im.height // 2)\n",
    "   im_resized = im.resize((width, height))\n",
    "   display(im_resized)"
   ]
  },
  {
   "cell_type": "markdown",
   "metadata": {},
   "source": [
    "Lets try to reproduce this plot with `fumbbl_replays`.\n",
    "We start with fetching a Dwarf Roster. \n",
    "Then create the positions including playerStates (i.e. the Stunned Troll Slayer). \n",
    "Then finally we add the skills."
   ]
  },
  {
   "cell_type": "code",
   "execution_count": null,
   "metadata": {},
   "outputs": [],
   "source": [
    "import fumbbl_replays as fb\n",
    "\n",
    "my_roster = fb.fetch_roster(\"Dwarf\")\n",
    "\n",
    "my_setup = ['setup', ['B3: d14', 'TS4: b15X', 'L10: l17', \n",
    "                      'L11: n17', 'L9: j19', 'L5: l20', 'L8: n20', \n",
    "                      'L6: j21', 'R1: m21o', 'L7: l22', 'B2: n22']]\n",
    "\n",
    "positions = fb.create_position(my_roster, my_setup)\n",
    "\n",
    "fb.add_skill_to_player(positions, \"R1\", \"On the Ball\")\n",
    "fb.add_skill_to_player(positions, \"B3\", \"Guard\")\n",
    "#fb.add_skill_to_player(positions, \"TS4\", \"Block\") # TS already comes with block\n",
    "fb.add_skill_to_player(positions, \"TS4\", \"Mighty Blow\")\n",
    "fb.add_skill_to_player(positions, \"L7\", \"Guard\")\n",
    "fb.add_skill_to_player(positions, \"L8\", \"Guard\")\n",
    "fb.add_skill_to_player(positions, \"L9\", \"Guard\")\n",
    "fb.add_skill_to_player(positions, \"L10\", \"Guard\")"
   ]
  },
  {
   "cell_type": "markdown",
   "metadata": {},
   "source": [
    "Repeat for Elven Union:"
   ]
  },
  {
   "cell_type": "code",
   "execution_count": null,
   "metadata": {},
   "outputs": [],
   "source": [
    "import pandas as pd\n",
    "\n",
    "my_roster = fb.fetch_roster(\"Elven Union\")\n",
    "\n",
    "my_setup = ['setup', ['T1: l25', 'C3: i24', 'B6: i23', \n",
    "                      'B7: g22', 'L10: i21', 'L11: h20', 'L12: c16', \n",
    "                      'L8: c15', 'C2: h11']]\n",
    "\n",
    "positions2 = fb.create_position(my_roster, my_setup, home_away = 'teamAway')\n",
    "\n",
    "fb.add_skill_to_player(positions2, \"T1\", \"Accurate\")\n",
    "fb.add_skill_to_player(positions2, \"T1\", \"Leader\")\n",
    "fb.add_skill_to_player(positions2, \"C3\", \"Dodge\")\n",
    "fb.add_skill_to_player(positions2, \"C3\", \"Block\")\n",
    "fb.add_skill_to_player(positions2, \"B6\", \"Dodge\")\n",
    "fb.add_skill_to_player(positions2, \"B6\", \"Strip Ball\")\n",
    "fb.add_skill_to_player(positions2, \"B7\", \"Mighty Blow\")\n",
    "fb.add_skill_to_player(positions2, \"L10\", \"Block\")\n",
    "\n",
    "positions = pd.concat([positions, positions2])"
   ]
  },
  {
   "cell_type": "code",
   "execution_count": null,
   "metadata": {},
   "outputs": [],
   "source": [
    "fb.create_plot(positions, red_team = \"teamAway\", orientation = 'H', skill_bands = True)"
   ]
  },
  {
   "cell_type": "markdown",
   "metadata": {},
   "source": [
    "We can reposition the Elven Union players to describe a possible solution to the what's the play puzzle.\n",
    "This facilitates discussions of alternative plays, and the risks and benefits associated with them."
   ]
  },
  {
   "cell_type": "code",
   "execution_count": null,
   "metadata": {},
   "outputs": [],
   "source": [
    "positions = fb.move_piece(positions, \"teamAway\", \"T1\", \"n25\")\n",
    "positions = fb.move_piece(positions, \"teamAway\", \"B6\", \"n24\")\n",
    "positions = fb.move_piece(positions, \"teamAway\", \"C3\", \"k25\")\n",
    "positions = fb.move_piece(positions, \"teamAway\", \"B7\", \"k24\")\n",
    "positions = fb.move_piece(positions, \"teamAway\", \"L10\", \"h24\")\n",
    "positions = fb.move_piece(positions, \"teamAway\", \"L11\", \"h25\")\n",
    "positions = fb.move_piece(positions, \"teamAway\", \"L12\", \"g22\")\n",
    "positions = fb.move_piece(positions, \"teamAway\", \"C2\", \"g19\")\n",
    "\n",
    "fb.create_plot(positions, red_team = \"teamAway\", orientation = 'H', skill_bands = True)"
   ]
  },
  {
   "cell_type": "markdown",
   "metadata": {},
   "source": [
    "The remaining lineman L8 could finally do a dodge and two rushes to end up in g23."
   ]
  },
  {
   "cell_type": "markdown",
   "metadata": {},
   "source": [
    "This also immediately gives rise to new feature requests: highlighting squares, drawing arrows, some form of pathfinding (e.g. find shortest path without dice rolling)."
   ]
  }
 ],
 "metadata": {
  "kernelspec": {
   "display_name": "fumbbl_replays_env",
   "language": "python",
   "name": "python3"
  },
  "language_info": {
   "codemirror_mode": {
    "name": "ipython",
    "version": 3
   },
   "file_extension": ".py",
   "mimetype": "text/x-python",
   "name": "python",
   "nbconvert_exporter": "python",
   "pygments_lexer": "ipython3",
   "version": "3.12.3"
  }
 },
 "nbformat": 4,
 "nbformat_minor": 2
}

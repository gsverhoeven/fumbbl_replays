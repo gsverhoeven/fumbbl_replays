{
 "cells": [
  {
   "cell_type": "markdown",
   "metadata": {},
   "source": [
    "This blog post describes a possible use case of the `fumbbl_replays` package.\n",
    "\n",
    "To install the `fumbbl_replays` python package, follow the instructions on Github."
   ]
  },
  {
   "cell_type": "code",
   "execution_count": null,
   "metadata": {},
   "outputs": [],
   "source": [
    "#%pip install ."
   ]
  },
  {
   "cell_type": "markdown",
   "metadata": {},
   "source": [
    "# Application: Plotting defensive tournament setups\n",
    "\n",
    "Here the idea is to visualize defensive setups in a tournament setting.\n",
    "I am currently playing amazons in our local league. Next is to play them in a tournament.\n",
    "So lets think about setups with a EB/WC style Amazon roster, and learn from the best.\n",
    "\n",
    "To learn from the best, we need to find high stakes tournament games with EB/WC rosters on FUMBBL.\n",
    "The Tilean Team Cup checks these boxes. It was an online NAF tournament in 2023 on FUMBBL that used the World Cup ruleset.\n",
    "https://member.thenaf.net/index.php?module=NAF&type=tournaments&func=view&id=7495\n",
    "\n",
    "The tournament was even blogged about by NAF tournament director Stimme, who wrote:\n",
    "\n",
    "https://www.thenaf.net/2023/05/tournament-director-blog-may-2023/\n",
    "\n",
    "*Among the individual coaches, Siggi stood out with his Amazons, earning the title of best coach with a flawless record of six wins. Kurjo’s Orcs secured second place, while helborg’s Dark Elves came in third, both with five wins and a draw.* \n"
   ]
  },
  {
   "cell_type": "code",
   "execution_count": null,
   "metadata": {},
   "outputs": [],
   "source": [
    "import fumbbl_replays as fb\n",
    "import pandas as pd\n",
    "\n",
    "# list of EB/WC amazon teams by strong coaches\n",
    "team_ids = [1117702, # siggi\n",
    "1210795, # jleav\n",
    "1212630, # sann\n",
    "1215544, # yuri \n",
    "1216461, # bazakine\n",
    "1210794] #tripleskull\n",
    "\n",
    "match_ids = []\n",
    "\n",
    "for team_id in team_ids:\n",
    "\n",
    "    race_name = fb.fetch_team(team_id)['roster']['name']\n",
    "\n",
    "    json_matches = fb.fetch_team_matches(team_id)\n",
    "\n",
    "    for i in range(len(json_matches)):\n",
    "        match_ids.append(json_matches[i]['id'])\n",
    "\n",
    "len(match_ids)"
   ]
  },
  {
   "cell_type": "markdown",
   "metadata": {},
   "source": [
    "# The Amazon roster in the WC2023 ruleset\n",
    "\n",
    "First lets have a look at the roster. Siggi went with a roster of 13 players, 2 rerolls (plus a leader reroll), apothecary AND there was even money left for a 100K bribe to be used together with Dirty Player."
   ]
  },
  {
   "cell_type": "code",
   "execution_count": null,
   "metadata": {},
   "outputs": [],
   "source": [
    "my_replay = fb.fetch_replay(match_id = min(match_ids))\n",
    "players = fb.extract_players_from_replay(my_replay)\n",
    "rosters = fb.extract_rosters_from_replay(my_replay) \n",
    "\n",
    "(rosters\n",
    " .query('race == @race_name')\n",
    " .filter(['race' , 'short_name', 'positionName', 'playerName', 'skillArrayRoster', 'learned_skills', 'cost', 'recoveringInjury', 'reRolls', 'apothecaries'])\n",
    ")\n"
   ]
  },
  {
   "cell_type": "markdown",
   "metadata": {},
   "source": [
    "JackassRampant wrote an awesome series of articles discussing defensive setups.\n",
    "https://fumbbl.com/p/notes?op=view&id=9773"
   ]
  },
  {
   "cell_type": "markdown",
   "metadata": {},
   "source": [
    "# Plotting the defensive setups used"
   ]
  },
  {
   "cell_type": "code",
   "execution_count": null,
   "metadata": {},
   "outputs": [],
   "source": [
    "do_refresh = False\n",
    "\n",
    "replay_ids = []\n",
    "race_defense = []\n",
    "race_offense = []\n",
    "\n",
    "for match_id in match_ids:\n",
    "    print(\".\", end = '')\n",
    "    # fetch and parse replay (positions contains board state at kick-off)\n",
    "    match_id, replay_id, positions, receiving_team, metadata = fb.fetch_data(match_id)\n",
    "    # create plots\n",
    "    plot = fb.create_defense_plot(replay_id, match_id, positions, receiving_team, metadata, refresh = do_refresh) \n",
    "    plot = fb.create_offense_plot(replay_id, match_id, positions, receiving_team, metadata, refresh = do_refresh) \n",
    "\n",
    "    replay_ids.append(int(replay_id))\n",
    "    race_defense.append(metadata[4])\n",
    "    race_offense.append(metadata[5])\n",
    "\n",
    "df_replays = pd.DataFrame( {\"matchId\": match_ids,\n",
    "                            \"replayId\": replay_ids,\n",
    "                            \"raceOffense\": race_offense,\n",
    "                            \"raceDefense\": race_defense\n",
    "                            })\n",
    "\n",
    "df_replays"
   ]
  },
  {
   "cell_type": "code",
   "execution_count": null,
   "metadata": {},
   "outputs": [],
   "source": [
    "from PIL import Image\n",
    "import os\n",
    "\n",
    "for i in range(len(df_replays)):\n",
    "    if df_replays.iloc[i]['raceDefense'] == race_name:\n",
    "        dirname = \"kickoff_pngs/\" + df_replays.iloc[i]['raceDefense'] + \"/\"\n",
    "        dirname = dirname.lower()\n",
    "        dirname = dirname.replace(' ', '_')\n",
    "        fname = dirname + str(df_replays.iloc[i]['replayId']) + \"_\" + \\\n",
    "            str(df_replays.iloc[i]['matchId']) + \"_kickoff_lower_defense.png\" \n",
    "        print(fname)\n",
    "        if os.path.isfile(fname):\n",
    "            display(Image.open(fname))\n",
    "    "
   ]
  },
  {
   "cell_type": "markdown",
   "metadata": {},
   "source": [
    "Apparently, coach siggi used an asymmetric setup against his Skaven opponent, with the weakest players on the line as cannon fodder, and positional players with good defensive skills such as block and wrestle further back. The dirty player lineman, Leader Thrower and Guard blocker are safe on row four."
   ]
  }
 ],
 "metadata": {
  "kernelspec": {
   "display_name": "fumbbl_replays_env",
   "language": "python",
   "name": "python3"
  },
  "language_info": {
   "codemirror_mode": {
    "name": "ipython",
    "version": 3
   },
   "file_extension": ".py",
   "mimetype": "text/x-python",
   "name": "python",
   "nbconvert_exporter": "python",
   "pygments_lexer": "ipython3",
   "version": "3.12.3"
  }
 },
 "nbformat": 4,
 "nbformat_minor": 2
}

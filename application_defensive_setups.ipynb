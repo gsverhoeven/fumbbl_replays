{
 "cells": [
  {
   "cell_type": "markdown",
   "metadata": {},
   "source": [
    "This blog post describes a possible use case of the `fumbbl_replays` package.\n",
    "\n",
    "To install the `fumbbl_replays` python package, follow the instructions on Github."
   ]
  },
  {
   "cell_type": "markdown",
   "metadata": {},
   "source": [
    "# Application: Plotting defensive tournament setups\n",
    "\n",
    "Here the idea is to visualize defensive setups in a tournament setting.\n",
    "\n",
    "To test the idea, I chose the Tilean Team Cup. It was an online NAF tournament in 2023 on FUMBBL that used the World Cup ruleset.\n",
    "https://member.thenaf.net/index.php?module=NAF&type=tournaments&func=view&id=7495\n",
    "\n",
    "NAF tournament director Stimme wrote:\n",
    "\n",
    "https://www.thenaf.net/2023/05/tournament-director-blog-may-2023/\n",
    "\n",
    "*Among the individual coaches, Siggi stood out with his Amazons, earning the title of best coach with a flawless record of six wins. Kurjo’s Orcs secured second place, while helborg’s Dark Elves came in third, both with five wins and a draw.* \n"
   ]
  },
  {
   "cell_type": "code",
   "execution_count": null,
   "metadata": {},
   "outputs": [],
   "source": [
    "import pandas as pd\n",
    "import fumbbl_replays as fb\n",
    "\n",
    "# point this to the location of the CSV datasets\n",
    "path_to_datasets = '../fumbbl_scraping/datasets/current/'\n",
    "\n",
    "# FUMBBL matches\n",
    "target = 'df_matches.csv'\n",
    "df_matches = pd.read_csv(path_to_datasets + target) \n",
    "\n",
    "# # subset on tilean team cup\n",
    "df_matches = df_matches.query('tournament_id == 59383')\n",
    "\n",
    "sel1 = df_matches['coach1_ranking'] == 'siggi'\n",
    "sel2 = df_matches['coach2_ranking'] == 'siggi'\n",
    "\n",
    "df_matches = df_matches[(sel1 + sel2)]\n",
    "\n",
    "tilean_replays = df_matches['match_id'].values\n",
    "\n",
    "tilean_replays = tilean_replays[0:4]"
   ]
  },
  {
   "cell_type": "code",
   "execution_count": null,
   "metadata": {},
   "outputs": [],
   "source": [
    "tilean_replays"
   ]
  },
  {
   "cell_type": "code",
   "execution_count": null,
   "metadata": {},
   "outputs": [],
   "source": [
    "import os\n",
    "\n",
    "target_dir = 'kickoff_pngs'\n",
    "\n",
    "if not os.path.exists(target_dir):\n",
    "    os.makedirs(target_dir)\n",
    "\n",
    "fullrun = 1\n",
    "\n",
    "if fullrun:\n",
    "    id = []\n",
    "    match_ids = []\n",
    "    race_defense = []\n",
    "    race_offense = []\n",
    "\n",
    "    for match_id in tilean_replays:\n",
    "        match_id, replay_id, positions, receiving_team, metadata = fb.fetch_data(match_id) \n",
    "        plot = fb.write_plot(match_id, positions, receiving_team, metadata, refresh = True, verbose = False)\n",
    "        id.append(int(replay_id))\n",
    "        match_ids.append(int(match_id))\n",
    "        race_defense.append(metadata[4])\n",
    "        race_offense.append(metadata[5])\n",
    "\n",
    "    df_replays = pd.DataFrame( {\"matchId\": match_ids,\n",
    "                                \"replayId\": id,\n",
    "                                \"raceOffense\": race_offense,\n",
    "                                \"raceDefense\": race_defense})\n",
    "    target = 'kickoff_pngs/df_replays'\n",
    "    df_replays.to_csv(target + '.csv', index = False)\n",
    "else:\n",
    "    # FUMBBL matches\n",
    "    target = 'kickoff_pngs/df_replays.csv'\n",
    "    df_replays = pd.read_csv(target)  "
   ]
  },
  {
   "cell_type": "code",
   "execution_count": null,
   "metadata": {},
   "outputs": [],
   "source": [
    "from PIL import Image\n",
    "Image.open(\"kickoff_pngs/amazon/1616794_4456080_kickoff_lower_defense.png\")"
   ]
  },
  {
   "cell_type": "markdown",
   "metadata": {},
   "source": [
    "Apparently, coach siggi used an asymmetric setup against his Skaven opponent, with the weakest players on the line as cannon fodder, and positional players with good defensive skills such as block and wrestle further back. The dirty player lineman, Leader Thrower and Guard blocker are safe on row four.\n",
    "\n",
    "There is also a function that extracts the roster from a replay (N.b. rerolls, apo and inducements not yet implemented):"
   ]
  },
  {
   "cell_type": "code",
   "execution_count": null,
   "metadata": {},
   "outputs": [],
   "source": [
    "my_replay = fb.fetch_replay(match_id = 4447483)\n",
    "rosters = fb.extract_rosters_from_replay(my_replay)\n",
    "\n",
    "(rosters\n",
    " .query('race == \"Amazon\"')\n",
    " .filter(['short_name', 'positionName', 'playerName', 'skillArrayRoster', 'learned_skills', 'cost', 'recoveringInjury'])\n",
    ")"
   ]
  }
 ],
 "metadata": {
  "kernelspec": {
   "display_name": "fumbbl_replays_env",
   "language": "python",
   "name": "python3"
  },
  "language_info": {
   "codemirror_mode": {
    "name": "ipython",
    "version": 3
   },
   "file_extension": ".py",
   "mimetype": "text/x-python",
   "name": "python",
   "nbconvert_exporter": "python",
   "pygments_lexer": "ipython3",
   "version": "3.12.3"
  }
 },
 "nbformat": 4,
 "nbformat_minor": 2
}
